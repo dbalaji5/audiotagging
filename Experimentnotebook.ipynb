{
  "nbformat": 4,
  "nbformat_minor": 0,
  "metadata": {
    "colab": {
      "name": "Experimentnotebook.ipynb",
      "version": "0.3.2",
      "provenance": [],
      "collapsed_sections": []
    },
    "kernelspec": {
      "name": "python3",
      "display_name": "Python 3"
    },
    "accelerator": "GPU"
  },
  "cells": [
    {
      "metadata": {
        "id": "35jSiJOrxnOt",
        "colab_type": "code",
        "colab": {
          "base_uri": "https://localhost:8080/",
          "height": 153
        },
        "outputId": "bb10616c-b266-4d8d-f104-b801b2a409ad"
      },
      "cell_type": "code",
      "source": [
        "!ls    #to display the available files"
      ],
      "execution_count": 442,
      "outputs": [
        {
          "output_type": "stream",
          "text": [
            "ADTest.csv\t sample_submission.csv\tTester.csv\r\n",
            "audio_test\t Tes.csv\t\ttest_post_competition.csv\r\n",
            "audio_test.zip\t Test2.csv\t\tTestv.csv\r\n",
            "audio_train\t Test3.csv\t\ttrain.csv\r\n",
            "audio_train.zip  test.csv\t\tTrainp.csv\r\n",
            "csvexample.csv\t Test.csv\t\ttrain_post_competition.csv\r\n",
            "datalab\t\t testdocs.csv\r\n",
            "MTest.csv\t Tester1.csv\r\n"
          ],
          "name": "stdout"
        }
      ]
    },
    {
      "metadata": {
        "id": "iTgqco8ZEMob",
        "colab_type": "code",
        "colab": {}
      },
      "cell_type": "code",
      "source": [
        "file = open('train.csv','r')     #load csv files for manipulating train.csv files\n",
        "words2=set()\n",
        "j=0\n",
        "for i in file:\n",
        "  if(j!=0):\n",
        "    #print(i)\n",
        "    ls=i.split(\",\")[1]\n",
        "    words2.add(ls)\n",
        "  j=j+1\n",
        "#print(words)\n",
        "#print(len(words))\n",
        "all_words2=sorted(list(words2))"
      ],
      "execution_count": 0,
      "outputs": []
    },
    {
      "metadata": {
        "id": "hChSpcQ5EPC8",
        "colab_type": "code",
        "colab": {}
      },
      "cell_type": "code",
      "source": [
        "vocab={ all_words2[j]:j for j in range(0,len(all_words2)) }   #for constructing vocabulary"
      ],
      "execution_count": 0,
      "outputs": []
    },
    {
      "metadata": {
        "id": "cd_ODFFfEiu1",
        "colab_type": "code",
        "colab": {
          "base_uri": "https://localhost:8080/",
          "height": 54
        },
        "outputId": "fa036f3f-988e-4226-ca51-27de5a26e67c"
      },
      "cell_type": "code",
      "source": [
        "print(vocab)"
      ],
      "execution_count": 382,
      "outputs": [
        {
          "output_type": "stream",
          "text": [
            "{'Acoustic_guitar': 0, 'Applause': 1, 'Bark': 2, 'Bass_drum': 3, 'Burping_or_eructation': 4, 'Bus': 5, 'Cello': 6, 'Chime': 7, 'Clarinet': 8, 'Computer_keyboard': 9, 'Cough': 10, 'Cowbell': 11, 'Double_bass': 12, 'Drawer_open_or_close': 13, 'Electric_piano': 14, 'Fart': 15, 'Finger_snapping': 16, 'Fireworks': 17, 'Flute': 18, 'Glockenspiel': 19, 'Gong': 20, 'Gunshot_or_gunfire': 21, 'Harmonica': 22, 'Hi-hat': 23, 'Keys_jangling': 24, 'Knock': 25, 'Laughter': 26, 'Meow': 27, 'Microwave_oven': 28, 'Oboe': 29, 'Saxophone': 30, 'Scissors': 31, 'Shatter': 32, 'Snare_drum': 33, 'Squeak': 34, 'Tambourine': 35, 'Tearing': 36, 'Telephone': 37, 'Trumpet': 38, 'Violin_or_fiddle': 39, 'Writing': 40}\n"
          ],
          "name": "stdout"
        }
      ]
    },
    {
      "metadata": {
        "id": "mzAUv8WYo3Ta",
        "colab_type": "text"
      },
      "cell_type": "markdown",
      "source": [
        "The following are the test post competition files label extraction for private and public files."
      ]
    },
    {
      "metadata": {
        "id": "AI8f5HSGMnQW",
        "colab_type": "code",
        "colab": {
          "base_uri": "https://localhost:8080/",
          "height": 34
        },
        "outputId": "a4df2855-abcd-4a50-ed9c-71f1ea98b1d1"
      },
      "cell_type": "code",
      "source": [
        "file2 = open('test_post_competition.csv','r')\n",
        "private=[]\n",
        "public=[]\n",
        "plabel=[]\n",
        "pulabel=[]\n",
        "iter1=0\n",
        "for iter in file2:\n",
        "  if(iter1==0):\n",
        "    iter1=iter1+1\n",
        "    print(\"in\")\n",
        "    continue\n",
        "  #print(iter.split(\",\")[0])\n",
        "  lname=iter.split(\",\")[1]\n",
        "  name=iter.split(\",\")[0]\n",
        "  usage=iter.split(\",\")[2]\n",
        "  if(lname!=\"None\"):\n",
        "    #print(lname)\n",
        "    temp=vocab[lname]\n",
        "    #teslabel.append(np.eye(41)[vocab[lname]])\n",
        "    if(usage=='Private'):\n",
        "      private.append(name)\n",
        "      plabel.append(np.eye(41)[vocab[lname]])\n",
        "    if(usage==\"Public\"):\n",
        "      public.append(name)\n",
        "      pulabel.append(np.eye(41)[vocab[lname]])"
      ],
      "execution_count": 422,
      "outputs": [
        {
          "output_type": "stream",
          "text": [
            "in\n"
          ],
          "name": "stdout"
        }
      ]
    },
    {
      "metadata": {
        "id": "Xuai9YfoNBY4",
        "colab_type": "code",
        "colab": {
          "base_uri": "https://localhost:8080/",
          "height": 85
        },
        "outputId": "2e68d495-4b2a-4075-c767-a46022786788"
      },
      "cell_type": "code",
      "source": [
        "plabel=np.array(plabel)\n",
        "pulabel=np.array(pulabel)\n",
        "print(len(private))\n",
        "print(len(public))\n",
        "print(plabel.shape)\n",
        "print(pulabel.shape)"
      ],
      "execution_count": 424,
      "outputs": [
        {
          "output_type": "stream",
          "text": [
            "1299\n",
            "301\n",
            "(1299, 41)\n",
            "(301, 41)\n"
          ],
          "name": "stdout"
        }
      ]
    },
    {
      "metadata": {
        "id": "2xWy6XtwNBU5",
        "colab_type": "code",
        "colab": {
          "base_uri": "https://localhost:8080/",
          "height": 34
        },
        "outputId": "e29432c9-bc66-4ef2-e195-9d5c0c73d8d0"
      },
      "cell_type": "code",
      "source": [
        "print(len(public))"
      ],
      "execution_count": 432,
      "outputs": [
        {
          "output_type": "stream",
          "text": [
            "301\n"
          ],
          "name": "stdout"
        }
      ]
    },
    {
      "metadata": {
        "id": "bOotUWMSDqxI",
        "colab_type": "code",
        "colab": {
          "base_uri": "https://localhost:8080/",
          "height": 34
        },
        "outputId": "6e15e461-4357-4058-a929-5edb543254b1"
      },
      "cell_type": "code",
      "source": [
        "file2 = open('test_post_competition.csv','r')   #code to load entire test file\n",
        "tester=[]\n",
        "teslabel=[]\n",
        "iter1=0\n",
        "for iter in file2:\n",
        "  if(iter1==0):\n",
        "    iter1=iter1+1\n",
        "    print(\"in\")\n",
        "    continue\n",
        "  #print(iter.split(\",\")[0])\n",
        "  lname=iter.split(\",\")[1]\n",
        "  name=iter.split(\",\")[0]\n",
        "  if(lname!=\"None\"):\n",
        "    #print(lname)\n",
        "    temp=vocab[lname]\n",
        "    teslabel.append(np.eye(41)[vocab[lname]])\n",
        "    tester.append(name)\n"
      ],
      "execution_count": 395,
      "outputs": [
        {
          "output_type": "stream",
          "text": [
            "in\n"
          ],
          "name": "stdout"
        }
      ]
    },
    {
      "metadata": {
        "id": "LJPQqwG-H1Mc",
        "colab_type": "code",
        "colab": {}
      },
      "cell_type": "code",
      "source": [
        "tlabel=np.array(teslabel)"
      ],
      "execution_count": 0,
      "outputs": []
    },
    {
      "metadata": {
        "id": "Cx_7U4VlITOj",
        "colab_type": "code",
        "colab": {
          "base_uri": "https://localhost:8080/",
          "height": 34
        },
        "outputId": "72be9e0e-c6f0-412d-af06-d0b203029d06"
      },
      "cell_type": "code",
      "source": [
        "print(tester[0])"
      ],
      "execution_count": 402,
      "outputs": [
        {
          "output_type": "stream",
          "text": [
            "00326aa9.wav\n"
          ],
          "name": "stdout"
        }
      ]
    },
    {
      "metadata": {
        "id": "1D5U_6Wzzj58",
        "colab_type": "text"
      },
      "cell_type": "markdown",
      "source": [
        "Following is the class implementation to preprocess the test files."
      ]
    },
    {
      "metadata": {
        "id": "QTvQO0-eJC4U",
        "colab_type": "code",
        "colab": {}
      },
      "cell_type": "code",
      "source": [
        "#lister=dict()\n",
        "class Collector3:\n",
        "  \n",
        "  def __init__(self,pth,duration,tester):\n",
        "    \n",
        "\n",
        "    self.myPath=pth\n",
        "    self.iter=0\n",
        "    self.liter=0\n",
        "    self.duration=duration\n",
        "    self.input_length=44100*self.duration\n",
        "    self.lister=dict()\n",
        "    self.tester=tester\n",
        "  def pad(self,a):\n",
        "    if(a.shape[1]>1400):\n",
        "        return a[:,0:1400]\n",
        "    else:\n",
        "        return np.pad(a,[(0,0),(0,(1400-a.shape[1]))],'constant',constant_values=(0))\n",
        "\n",
        "    \n",
        "  def next_batch(self,it):\n",
        "    onlyfiles = [f for f in sorted(listdir(self.myPath)) if isfile(join(self.myPath,f))]\n",
        "    j=it\n",
        "    max=0\n",
        "    voc=dict()\n",
        "    trainer=[]\n",
        "    k=self.iter\n",
        "    for i in self.tester:\n",
        "        audio_path=self.myPath+\"/\"+i\n",
        "        #print(i)\n",
        "        data,sr=librosa.load(audio_path, sr=44100)\n",
        "        #print(y.shape)\n",
        "        #data,sr=librosa.load(audio_path, sr=44100)\n",
        "        \n",
        "        # Random offset / Padding\n",
        "        if len(data) > self.input_length:\n",
        "            max_offset = len(data) - self.input_length\n",
        "            #print(max_offset)\n",
        "            offset = np.random.randint(max_offset)\n",
        "            #print(offset)\n",
        "            data = data[offset:(self.input_length+offset)]\n",
        "        else:\n",
        "            if self.input_length > len(data):\n",
        "                max_offset = self.input_length - len(data)\n",
        "                offset = np.random.randint(max_offset)\n",
        "            else:\n",
        "                offset = 0\n",
        "            data = np.pad(data, (offset, self.input_length - len(data) - offset), \"constant\")\n",
        "        #S = librosa.feature.melspectrogram(y, sr=sr, n_mels=128)\n",
        "        #log_S = librosa.power_to_db(S, ref=np.max)\n",
        "        mfcc=librosa.feature.mfcc(y=data, sr=sr, n_mfcc=40)\n",
        "        #S = librosa.feature.melspectrogram(y, sr=sr, n_mels=128)\n",
        "        #log_S = librosa.power_to_db(S, ref=np.max)\n",
        "        \n",
        "        #mfcc        = librosa.feature.mfcc(S=log_S, n_mfcc=13)\n",
        "\n",
        "        # Let's pad on the first and second deltas while we're at it\n",
        "        #delta_mfcc  = librosa.feature.delta(mfcc)\n",
        "        #delta2_mfcc = librosa.feature.delta(mfcc, order=2)\n",
        "        #print(log_S.shape)\n",
        "        trainer.append(mfcc)\n",
        "     \n",
        "    return np.array(trainer)\n",
        "        "
      ],
      "execution_count": 0,
      "outputs": []
    },
    {
      "metadata": {
        "id": "ZBt1o5lnOKaz",
        "colab_type": "code",
        "colab": {}
      },
      "cell_type": "code",
      "source": [
        "coll1=Collector3('audio_test',2,private) #preprocess private files with audio duration=2"
      ],
      "execution_count": 0,
      "outputs": []
    },
    {
      "metadata": {
        "id": "BmER4oBPOKXa",
        "colab_type": "code",
        "colab": {}
      },
      "cell_type": "code",
      "source": [
        "Private_Test=coll1.next_batch(1299)"
      ],
      "execution_count": 0,
      "outputs": []
    },
    {
      "metadata": {
        "id": "sAsyzKPsOKT1",
        "colab_type": "code",
        "colab": {}
      },
      "cell_type": "code",
      "source": [
        "coll2=Collector3('audio_test',2,public) #preprocess public files with audio duration=2"
      ],
      "execution_count": 0,
      "outputs": []
    },
    {
      "metadata": {
        "id": "YOXuBC_yOKPv",
        "colab_type": "code",
        "colab": {}
      },
      "cell_type": "code",
      "source": [
        "Public_Test=coll2.next_batch(1209)"
      ],
      "execution_count": 0,
      "outputs": []
    },
    {
      "metadata": {
        "id": "_pFEM0VkOuJK",
        "colab_type": "code",
        "colab": {
          "base_uri": "https://localhost:8080/",
          "height": 34
        },
        "outputId": "a8265a05-f363-430f-92ee-4a7083f5d1cd"
      },
      "cell_type": "code",
      "source": [
        "print(len(plabel))"
      ],
      "execution_count": 439,
      "outputs": [
        {
          "output_type": "stream",
          "text": [
            "1299\n"
          ],
          "name": "stdout"
        }
      ]
    },
    {
      "metadata": {
        "id": "hAEONemSJC--",
        "colab_type": "code",
        "colab": {}
      },
      "cell_type": "code",
      "source": [
        "X_test=Collector3('audio_test',2,tester)"
      ],
      "execution_count": 0,
      "outputs": []
    },
    {
      "metadata": {
        "id": "Az-dHdK_J5-I",
        "colab_type": "code",
        "colab": {}
      },
      "cell_type": "code",
      "source": [
        "Test=X_test.next_batch(1600)"
      ],
      "execution_count": 0,
      "outputs": []
    },
    {
      "metadata": {
        "id": "ASqCwsJRKNar",
        "colab_type": "code",
        "colab": {}
      },
      "cell_type": "code",
      "source": [
        "Test=np.expand_dims(Test,axis=-1)"
      ],
      "execution_count": 0,
      "outputs": []
    },
    {
      "metadata": {
        "id": "yhuBv2sMKYr4",
        "colab_type": "code",
        "colab": {
          "base_uri": "https://localhost:8080/",
          "height": 51
        },
        "outputId": "f6a7e812-3c0d-40f8-c81e-f1b6e04c700b"
      },
      "cell_type": "code",
      "source": [
        "print(Test.shape)\n",
        "print(tlabel.shape)"
      ],
      "execution_count": 411,
      "outputs": [
        {
          "output_type": "stream",
          "text": [
            "(1600, 40, 173, 1)\n",
            "(1600, 41)\n"
          ],
          "name": "stdout"
        }
      ]
    },
    {
      "metadata": {
        "id": "Yh3UVU9Uz6H3",
        "colab_type": "text"
      },
      "cell_type": "markdown",
      "source": [
        "Following code is to establish connection with the google drive"
      ]
    },
    {
      "metadata": {
        "id": "8gzWsMHRxsX1",
        "colab_type": "code",
        "colab": {
          "base_uri": "https://localhost:8080/",
          "height": 34
        },
        "outputId": "47429b4d-28b7-4aaf-c57d-f0a46eeadb31"
      },
      "cell_type": "code",
      "source": [
        "from googleapiclient.discovery import build\n",
        "import io, os\n",
        "from googleapiclient.http import MediaIoBaseDownload\n",
        "from google.colab import auth\n",
        "\n",
        "auth.authenticate_user()\n",
        "\n",
        "drive_service = build('drive', 'v3')\n",
        "results = drive_service.files().list(\n",
        "        q=\"name = 'kaggle.json'\", fields=\"files(id)\").execute()\n",
        "kaggle_api_key = results.get('files', [])\n",
        "\n",
        "filename = \"/content/.kaggle/kaggle.json\"\n",
        "os.makedirs(os.path.dirname(filename), exist_ok=True)\n",
        "\n",
        "request = drive_service.files().get_media(fileId=kaggle_api_key[0]['id'])\n",
        "fh = io.FileIO(filename, 'wb')\n",
        "downloader = MediaIoBaseDownload(fh, request)\n",
        "done = False\n",
        "while done is False:\n",
        "    status, done = downloader.next_chunk()\n",
        "    print(\"Download %d%%.\" % int(status.progress() * 100))\n",
        "os.chmod(filename, 600)"
      ],
      "execution_count": 300,
      "outputs": [
        {
          "output_type": "stream",
          "text": [
            "Download 100%.\n"
          ],
          "name": "stdout"
        }
      ]
    },
    {
      "metadata": {
        "id": "ZUtCssoKyBjA",
        "colab_type": "code",
        "colab": {
          "base_uri": "https://localhost:8080/",
          "height": 323
        },
        "outputId": "46a8b08b-b4dc-4495-c442-634c82209d12"
      },
      "cell_type": "code",
      "source": [
        "!kaggle competitions download -c freesound-audio-tagging   #keras command to download the competition file"
      ],
      "execution_count": 3,
      "outputs": [
        {
          "output_type": "stream",
          "text": [
            "Downloading test_post_competition.csv to /content\r\n",
            "\r  0%|                                                | 0.00/449k [00:00<?, ?B/s]\r\n",
            "100%|████████████████████████████████████████| 449k/449k [00:00<00:00, 73.9MB/s]\n",
            "Downloading train_post_competition.csv to /content\n",
            "  0%|                                                | 0.00/440k [00:00<?, ?B/s]\n",
            "100%|████████████████████████████████████████| 440k/440k [00:00<00:00, 88.8MB/s]\n",
            "Downloading sample_submission.csv to /content\n",
            "  0%|                                                | 0.00/321k [00:00<?, ?B/s]\n",
            "100%|█████████████████████████████████████████| 321k/321k [00:00<00:00, 104MB/s]\n",
            "Downloading train.csv to /content\n",
            "  0%|                                                | 0.00/228k [00:00<?, ?B/s]\n",
            "100%|█████████████████████████████████████████| 228k/228k [00:00<00:00, 150MB/s]\n",
            "Downloading audio_test.zip to /content\n",
            "100%|██████████████████████████████████████▉| 3.26G/3.27G [00:23<00:00, 155MB/s]\n",
            "100%|███████████████████████████████████████| 3.27G/3.27G [00:23<00:00, 149MB/s]\n",
            "Downloading audio_train.zip to /content\n",
            "100%|██████████████████████████████████████▉| 3.79G/3.79G [00:27<00:00, 108MB/s]\n",
            "100%|███████████████████████████████████████| 3.79G/3.79G [00:27<00:00, 150MB/s]\n"
          ],
          "name": "stdout"
        }
      ]
    },
    {
      "metadata": {
        "id": "Ukv5bTRnyKwK",
        "colab_type": "code",
        "colab": {
          "base_uri": "https://localhost:8080/",
          "height": 68
        },
        "outputId": "0389aa2c-1226-46ab-bb05-c17042daff5d"
      },
      "cell_type": "code",
      "source": [
        "!ls"
      ],
      "execution_count": 4,
      "outputs": [
        {
          "output_type": "stream",
          "text": [
            "audio_test.zip\t sample_submission.csv\t    train_post_competition.csv\r\n",
            "audio_train.zip  test_post_competition.csv\r\n",
            "datalab\t\t train.csv\r\n"
          ],
          "name": "stdout"
        }
      ]
    },
    {
      "metadata": {
        "id": "O3gPtoxSyT42",
        "colab_type": "code",
        "colab": {}
      },
      "cell_type": "code",
      "source": [
        "import zipfile\n",
        "zip_ref = zipfile.ZipFile('audio_test.zip', 'r')\n",
        "zip_ref.extractall()\n",
        "zip_ref.close()"
      ],
      "execution_count": 0,
      "outputs": []
    },
    {
      "metadata": {
        "id": "TduNFy5bybMW",
        "colab_type": "code",
        "colab": {}
      },
      "cell_type": "code",
      "source": [
        "import zipfile\n",
        "zip_ref = zipfile.ZipFile('audio_train.zip', 'r')\n",
        "zip_ref.extractall()\n",
        "zip_ref.close()"
      ],
      "execution_count": 0,
      "outputs": []
    },
    {
      "metadata": {
        "id": "nEtyD0z30uD9",
        "colab_type": "code",
        "colab": {
          "base_uri": "https://localhost:8080/",
          "height": 68
        },
        "outputId": "8f9400c1-5f84-4033-db07-2d0ec9b04c9b"
      },
      "cell_type": "code",
      "source": [
        "!ls"
      ],
      "execution_count": 7,
      "outputs": [
        {
          "output_type": "stream",
          "text": [
            "audio_test\taudio_train.zip        test_post_competition.csv\r\n",
            "audio_test.zip\tdatalab\t\t       train.csv\r\n",
            "audio_train\tsample_submission.csv  train_post_competition.csv\r\n"
          ],
          "name": "stdout"
        }
      ]
    },
    {
      "metadata": {
        "id": "CSlEZJmt1kK1",
        "colab_type": "code",
        "colab": {
          "base_uri": "https://localhost:8080/",
          "height": 561
        },
        "outputId": "21473fb3-c75e-40b4-d888-f68a51b121d6"
      },
      "cell_type": "code",
      "source": [
        "!pip install librosa"
      ],
      "execution_count": 8,
      "outputs": [
        {
          "output_type": "stream",
          "text": [
            "Collecting librosa\n",
            "\u001b[?25l  Downloading https://files.pythonhosted.org/packages/09/b4/5b411f19de48f8fc1a0ff615555aa9124952e4156e94d4803377e50cfa4c/librosa-0.6.2.tar.gz (1.6MB)\n",
            "\u001b[K    100% |████████████████████████████████| 1.6MB 8.3MB/s \n",
            "\u001b[?25hCollecting audioread>=2.0.0 (from librosa)\n",
            "  Downloading https://files.pythonhosted.org/packages/f0/41/8cd160c6b2046b997d571a744a7f398f39e954a62dd747b2aae1ad7f07d4/audioread-2.1.6.tar.gz\n",
            "Requirement already satisfied: numpy>=1.8.0 in /usr/local/lib/python3.6/dist-packages (from librosa) (1.14.5)\n",
            "Requirement already satisfied: scipy>=0.14.0 in /usr/local/lib/python3.6/dist-packages (from librosa) (0.19.1)\n",
            "Requirement already satisfied: scikit-learn!=0.19.0,>=0.14.0 in /usr/local/lib/python3.6/dist-packages (from librosa) (0.19.2)\n",
            "Collecting joblib>=0.12 (from librosa)\n",
            "\u001b[?25l  Downloading https://files.pythonhosted.org/packages/f6/26/317725ffd9e8e8c0eb4b2fc77614f52045ddfc1c5026387fbefef9050eec/joblib-0.12.2-py2.py3-none-any.whl (269kB)\n",
            "\u001b[K    100% |████████████████████████████████| 276kB 11.7MB/s \n",
            "\u001b[?25hRequirement already satisfied: decorator>=3.0.0 in /usr/local/lib/python3.6/dist-packages (from librosa) (4.3.0)\n",
            "Requirement already satisfied: six>=1.3 in /usr/local/lib/python3.6/dist-packages (from librosa) (1.11.0)\n",
            "Collecting resampy>=0.2.0 (from librosa)\n",
            "\u001b[?25l  Downloading https://files.pythonhosted.org/packages/14/b6/66a06d85474190b50aee1a6c09cdc95bb405ac47338b27e9b21409da1760/resampy-0.2.1.tar.gz (322kB)\n",
            "\u001b[K    100% |████████████████████████████████| 327kB 11.0MB/s \n",
            "\u001b[?25hCollecting numba>=0.38.0 (from librosa)\n",
            "\u001b[?25l  Downloading https://files.pythonhosted.org/packages/24/89/6f1755892d60ddd528090dc313349e7cc491170d6737f6b3a7a5b317ef81/numba-0.39.0-cp36-cp36m-manylinux1_x86_64.whl (1.9MB)\n",
            "\u001b[K    100% |████████████████████████████████| 1.9MB 9.9MB/s \n",
            "\u001b[?25hCollecting llvmlite>=0.24.0dev0 (from numba>=0.38.0->librosa)\n",
            "\u001b[?25l  Downloading https://files.pythonhosted.org/packages/be/05/c1b933d6b3dd6a234b681605e4154c44d21ee22cbef315c4eb9d64e6ab6a/llvmlite-0.24.0-cp36-cp36m-manylinux1_x86_64.whl (15.8MB)\n",
            "\u001b[K    100% |████████████████████████████████| 15.9MB 2.0MB/s \n",
            "\u001b[?25hBuilding wheels for collected packages: librosa, audioread, resampy\n",
            "  Running setup.py bdist_wheel for librosa ... \u001b[?25l-\b \b\\\b \b|\b \bdone\n",
            "\u001b[?25h  Stored in directory: /content/.cache/pip/wheels/18/b8/10/f0f8f6ac60668a5cd75596cf14c25bb6b3ea1ecd815f058b7e\n",
            "  Running setup.py bdist_wheel for audioread ... \u001b[?25l-\b \bdone\n",
            "\u001b[?25h  Stored in directory: /content/.cache/pip/wheels/53/02/90/7b5c4081b7470c550ab605f600bad237dde12a6b8999b11f50\n",
            "  Running setup.py bdist_wheel for resampy ... \u001b[?25l-\b \b\\\b \bdone\n",
            "\u001b[?25h  Stored in directory: /content/.cache/pip/wheels/ff/4f/ed/2e6c676c23efe5394bb40ade50662e90eb46e29b48324c5f9b\n",
            "Successfully built librosa audioread resampy\n",
            "Installing collected packages: audioread, joblib, llvmlite, numba, resampy, librosa\n",
            "Successfully installed audioread-2.1.6 joblib-0.12.2 librosa-0.6.2 llvmlite-0.24.0 numba-0.39.0 resampy-0.2.1\n"
          ],
          "name": "stdout"
        }
      ]
    },
    {
      "metadata": {
        "id": "RLl-uiIB0Hbp",
        "colab_type": "text"
      },
      "cell_type": "markdown",
      "source": [
        "Following are the class implementation of preprocesssing audio files"
      ]
    },
    {
      "metadata": {
        "id": "2vrP_OuM29RP",
        "colab_type": "code",
        "colab": {}
      },
      "cell_type": "code",
      "source": [
        "from os import listdir\n",
        "from os.path import isfile,join\n",
        "\n",
        "# We'll need numpy for some mathematical operations\n",
        "import numpy as np\n",
        "\n",
        "# matplotlib for displaying the output\n",
        "import matplotlib.pyplot as plt\n",
        "import matplotlib.style as ms\n",
        "ms.use('seaborn-muted')\n",
        "\n",
        "# Librosa for audio\n",
        "import librosa\n",
        "# And the display module for visualization\n",
        "import librosa.display\n",
        "import math\n",
        "\n",
        "class Collector:\n",
        "  \n",
        "  def __init__(self,pth,duration):\n",
        "    \n",
        "\n",
        "    self.myPath=pth\n",
        "    self.iter=0\n",
        "    self.liter=0\n",
        "    self.duration=duration\n",
        "    self.input_length=44100*self.duration\n",
        "    \n",
        "    file = open('train.csv','r')\n",
        "    self.vocab=[]\n",
        "    words=set()\n",
        "    j=0\n",
        "    for i in file:\n",
        "      if(j!=0):\n",
        "        #print(i)\n",
        "        ls=i.split(\",\")[1]\n",
        "        words.add(ls)\n",
        "      j=j+1\n",
        "    #print(words)\n",
        "    #print(len(words))\n",
        "    self.all_words=sorted(list(words))\n",
        "    self.vocab={ self.all_words[j]:j for j in range(0,len(self.all_words)) }\n",
        "    print(self.vocab)\n",
        "    file.close()\n",
        "    \n",
        "  def pad(self,a):\n",
        "    if(a.shape[1]>1400):\n",
        "        return a[:,0:1400]\n",
        "    else:\n",
        "        return np.pad(a,[(0,0),(0,(1400-a.shape[1]))],'constant',constant_values=(0))\n",
        "\n",
        "    \n",
        "  def next_batch(self,it):\n",
        "    onlyfiles = [f for f in sorted(listdir(self.myPath)) if isfile(join(self.myPath,f))]\n",
        "    j=it\n",
        "    max=0\n",
        "    voc=dict()\n",
        "    trainer=[]\n",
        "    k=self.iter\n",
        "    for i in onlyfiles:\n",
        "        if(k>0):\n",
        "          #print(self.iter)\n",
        "          k=k-1\n",
        "          continue\n",
        "        audio_path=self.myPath+\"/\"+i\n",
        "        #print(i)\n",
        "        #y,sr=librosa.load(audio_path, sr=44100)\n",
        "        #print(y.shape)\n",
        "        data,sr=librosa.load(audio_path, sr=44100)\n",
        "        \n",
        "        # Random offset / Padding\n",
        "        if len(data) > self.input_length:\n",
        "            max_offset = len(data) - self.input_length\n",
        "            #print(max_offset)\n",
        "            offset = np.random.randint(max_offset)\n",
        "            #print(offset)\n",
        "            data = data[offset:(self.input_length+offset)]\n",
        "        else:\n",
        "            if self.input_length > len(data):\n",
        "                max_offset = self.input_length - len(data)\n",
        "                offset = np.random.randint(max_offset)\n",
        "            else:\n",
        "                offset = 0\n",
        "            data = np.pad(data, (offset, self.input_length - len(data) - offset), \"constant\")\n",
        "        #S = librosa.feature.melspectrogram(y, sr=sr, n_mels=128)\n",
        "        #log_S = librosa.power_to_db(S, ref=np.max)\n",
        "        mfcc=librosa.feature.mfcc(y=data, sr=sr, n_mfcc=40)\n",
        "        #mfcc        = librosa.feature.mfcc(S=log_S, n_mfcc=13)\n",
        "\n",
        "        # Let's pad on the first and second deltas while we're at it\n",
        "        #delta_mfcc  = librosa.feature.delta(mfcc)\n",
        "        #delta2_mfcc = librosa.feature.delta(mfcc, order=2)\n",
        "        #print(log_S.shape)\n",
        "        trainer.append(mfcc)\n",
        "        j=j-1\n",
        "        self.iter=self.iter+1\n",
        "        if(j==0):\n",
        "            break\n",
        "     \n",
        "    init=0\n",
        "    label=[]\n",
        "    temp=self.liter\n",
        "    repeater=it\n",
        "    file2 = open('train.csv','r')\n",
        "    for iter in file2:\n",
        "      if(init!=0):\n",
        "        if(temp>0):\n",
        "          temp=temp-1\n",
        "          continue\n",
        "        #print(iter.split(\",\")[0])\n",
        "        name=iter.split(\",\")[1]\n",
        "        label.append(self.vocab[name])\n",
        "        repeater=repeater-1\n",
        "        self.liter=self.liter+1\n",
        "        if(repeater==0):\n",
        "          break\n",
        "      init=init+1\n",
        "\n",
        "    label=np.array(label)\n",
        "    #print(label.shape[0])\n",
        "    label2=np.eye(len(self.all_words))[label]\n",
        "    #print(label2.shape)\n",
        "    file2.close()\n",
        "    \n",
        "        \n",
        "    \n",
        "    return np.array(trainer),label2\n",
        "        #print(log_S.shape)\n",
        "        #if(log_S.shape[1] in voc):\n",
        "         #   voc[log_S.shape[1]]+=1\n",
        "        #else:\n",
        "            #voc[log_S.shape[1]]=1\n",
        "        #if(log_S.shape[1]>max):\n",
        "         #   max=log_S.shape[1]\n",
        "    #print(max)\n",
        "    #print(math.ceil(sum(sorted(voc, key=voc.get, reverse=True)[:10])/2))\n",
        "    #print(math.ceil(sum(sorted(voc, key=voc.get, reverse=True)[:20])/2))\n",
        "    #print(sorted(voc, key=voc.get, reverse=True)[:1])"
      ],
      "execution_count": 0,
      "outputs": []
    },
    {
      "metadata": {
        "id": "xPsuA2Vf3Gqc",
        "colab_type": "code",
        "colab": {
          "base_uri": "https://localhost:8080/",
          "height": 54
        },
        "outputId": "f408812b-769a-4ba6-d3c2-307a24ad4944"
      },
      "cell_type": "code",
      "source": [
        "coll=Collector(\"audio_train\",2)\n",
        "train,label=coll.next_batch(5)"
      ],
      "execution_count": 374,
      "outputs": [
        {
          "output_type": "stream",
          "text": [
            "{'Acoustic_guitar': 0, 'Applause': 1, 'Bark': 2, 'Bass_drum': 3, 'Burping_or_eructation': 4, 'Bus': 5, 'Cello': 6, 'Chime': 7, 'Clarinet': 8, 'Computer_keyboard': 9, 'Cough': 10, 'Cowbell': 11, 'Double_bass': 12, 'Drawer_open_or_close': 13, 'Electric_piano': 14, 'Fart': 15, 'Finger_snapping': 16, 'Fireworks': 17, 'Flute': 18, 'Glockenspiel': 19, 'Gong': 20, 'Gunshot_or_gunfire': 21, 'Harmonica': 22, 'Hi-hat': 23, 'Keys_jangling': 24, 'Knock': 25, 'Laughter': 26, 'Meow': 27, 'Microwave_oven': 28, 'Oboe': 29, 'Saxophone': 30, 'Scissors': 31, 'Shatter': 32, 'Snare_drum': 33, 'Squeak': 34, 'Tambourine': 35, 'Tearing': 36, 'Telephone': 37, 'Trumpet': 38, 'Violin_or_fiddle': 39, 'Writing': 40}\n"
          ],
          "name": "stdout"
        }
      ]
    },
    {
      "metadata": {
        "id": "Qaq3UBqOGB5_",
        "colab_type": "code",
        "colab": {
          "base_uri": "https://localhost:8080/",
          "height": 34
        },
        "outputId": "2e9d6843-3ba8-46b7-b180-4fc12d16a6bd"
      },
      "cell_type": "code",
      "source": [
        "print(train.shape)"
      ],
      "execution_count": 375,
      "outputs": [
        {
          "output_type": "stream",
          "text": [
            "(5, 40, 173)\n"
          ],
          "name": "stdout"
        }
      ]
    },
    {
      "metadata": {
        "id": "bYrZbPe13J0U",
        "colab_type": "code",
        "colab": {}
      },
      "cell_type": "code",
      "source": [
        "train,label=coll.next_batch(5)"
      ],
      "execution_count": 0,
      "outputs": []
    },
    {
      "metadata": {
        "id": "otgu2YsKfReo",
        "colab_type": "code",
        "colab": {
          "base_uri": "https://localhost:8080/",
          "height": 51
        },
        "outputId": "d0437af4-0e10-4d59-a5e4-49c8b9c8e769"
      },
      "cell_type": "code",
      "source": [
        "print(train.shape)\n",
        "print(label.shape)"
      ],
      "execution_count": 14,
      "outputs": [
        {
          "output_type": "stream",
          "text": [
            "(5, 40, 173)\n",
            "(5, 41)\n"
          ],
          "name": "stdout"
        }
      ]
    },
    {
      "metadata": {
        "id": "B3KV4FVeYa9-",
        "colab_type": "code",
        "colab": {}
      },
      "cell_type": "code",
      "source": [
        "import keras\n",
        "from keras.models import Sequential\n",
        "from keras.layers import Dense, Dropout, Flatten\n",
        "from keras.layers import Embedding,LSTM\n",
        "from keras.layers import Lambda, Input\n",
        "from keras.layers import Conv1D, GlobalAveragePooling3D, MaxPooling1D,Conv2D, GlobalAveragePooling2D,GlobalMaxPooling1D\n",
        "from keras.optimizers import SGD,Adadelta,Adam\n",
        "from keras.backend import tf as ktf\n",
        "from keras.layers import (Convolution2D, GlobalAveragePooling2D, BatchNormalization, Flatten,\n",
        "                          GlobalMaxPool2D, MaxPool2D, concatenate, Activation)\n",
        "from keras.utils import Sequence, to_categorical"
      ],
      "execution_count": 0,
      "outputs": []
    },
    {
      "metadata": {
        "id": "YdJpu9jrYfjz",
        "colab_type": "code",
        "colab": {
          "base_uri": "https://localhost:8080/",
          "height": 91
        },
        "outputId": "ae679666-80f9-4c7c-c3f2-14071fe01872"
      },
      "cell_type": "code",
      "source": [
        "file = open('train.csv','r')\n",
        "vocab=[]\n",
        "words=set()\n",
        "j=0\n",
        "for i in file:\n",
        "\tif(j!=0):\n",
        "\t\t#print(i)\n",
        "\t\tls=i.split(\",\")[1]\n",
        "\t\twords.add(ls)\n",
        "\tj=j+1\n",
        "#print(words)\n",
        "#print(len(words))\n",
        "all_words=sorted(list(words))\n",
        "vocab={ all_words[j]:j for j in range(0,len(all_words)) }\n",
        "print(vocab)\n",
        "file.close()\n",
        "k=0\n",
        "label=[]\n",
        "file2 = open('train.csv','r')\n",
        "for iter in file2:\n",
        "\tif(k!=0):\n",
        "\t\tname=iter.split(\",\")[1]\n",
        "\t\tlabel.append(vocab[name])\n",
        "\tk=k+1\n",
        "\tif(k==1001):\n",
        "\t\tbreak\n",
        "\n",
        "label=np.array(label)\n",
        "print(label.shape[0])\n",
        "label2=np.eye(len(all_words))[label]\n",
        "print(label2.shape)"
      ],
      "execution_count": 0,
      "outputs": [
        {
          "output_type": "stream",
          "text": [
            "{'Acoustic_guitar': 0, 'Applause': 1, 'Bark': 2, 'Bass_drum': 3, 'Burping_or_eructation': 4, 'Bus': 5, 'Cello': 6, 'Chime': 7, 'Clarinet': 8, 'Computer_keyboard': 9, 'Cough': 10, 'Cowbell': 11, 'Double_bass': 12, 'Drawer_open_or_close': 13, 'Electric_piano': 14, 'Fart': 15, 'Finger_snapping': 16, 'Fireworks': 17, 'Flute': 18, 'Glockenspiel': 19, 'Gong': 20, 'Gunshot_or_gunfire': 21, 'Harmonica': 22, 'Hi-hat': 23, 'Keys_jangling': 24, 'Knock': 25, 'Laughter': 26, 'Meow': 27, 'Microwave_oven': 28, 'Oboe': 29, 'Saxophone': 30, 'Scissors': 31, 'Shatter': 32, 'Snare_drum': 33, 'Squeak': 34, 'Tambourine': 35, 'Tearing': 36, 'Telephone': 37, 'Trumpet': 38, 'Violin_or_fiddle': 39, 'Writing': 40}\n",
            "1000\n",
            "(1000, 41)\n"
          ],
          "name": "stdout"
        }
      ]
    },
    {
      "metadata": {
        "id": "Kzs3xJu4cxQI",
        "colab_type": "code",
        "colab": {
          "base_uri": "https://localhost:8080/",
          "height": 833
        },
        "outputId": "6e0956a7-e245-4863-b6ec-e397e58caa1e"
      },
      "cell_type": "code",
      "source": [
        "model = Sequential()  \n",
        "  \n",
        "model.add(Convolution2D(32, (3,3),padding=\"same\",input_shape=(40,173,1)))\n",
        "model.add(BatchNormalization())\n",
        "model.add(Activation(\"relu\"))\n",
        "model.add(MaxPool2D((2,2)))\n",
        "\n",
        "model.add(Convolution2D(32, (3,3), padding=\"same\"))\n",
        "model.add(BatchNormalization())\n",
        "model.add(Activation(\"relu\"))\n",
        "model.add(MaxPool2D((3,3)))\n",
        "\n",
        "model.add(Convolution2D(32, (3,3), padding=\"same\"))\n",
        "model.add(BatchNormalization())\n",
        "model.add(Activation(\"relu\"))\n",
        "model.add(MaxPool2D((4,4)))\n",
        "\n",
        "#model.add(Convolution2D(32, (3,3), padding=\"same\"))\n",
        "#model.add(BatchNormalization())\n",
        "#model.add(Activation(\"relu\"))\n",
        "#model.add(MaxPool2D((4,4)))\n",
        "#model.add(GlobalAveragePooling2D())\n",
        "#model.add(MaxPool2D())\n",
        "model.add(Flatten())\n",
        "model.add(Dense(64))\n",
        "model.add(BatchNormalization())\n",
        "model.add(Activation(\"relu\"))\n",
        "model.add(Dense(128))\n",
        "model.add(BatchNormalization())\n",
        "model.add(Activation(\"relu\"))\n",
        "model.add(Dense(41, activation=\"softmax\"))\n",
        "\n",
        "sgd = SGD(lr=0.01, decay=1e-6, momentum=0.9, nesterov=True)\n",
        "adam=Adam(lr=0.0001)\n",
        "model.compile(loss='categorical_crossentropy', optimizer=adam, metrics=['acc'])\n",
        "print(model.summary())"
      ],
      "execution_count": 344,
      "outputs": [
        {
          "output_type": "stream",
          "text": [
            "_________________________________________________________________\n",
            "Layer (type)                 Output Shape              Param #   \n",
            "=================================================================\n",
            "conv2d_121 (Conv2D)          (None, 40, 173, 32)       320       \n",
            "_________________________________________________________________\n",
            "batch_normalization_143 (Bat (None, 40, 173, 32)       128       \n",
            "_________________________________________________________________\n",
            "activation_143 (Activation)  (None, 40, 173, 32)       0         \n",
            "_________________________________________________________________\n",
            "max_pooling2d_122 (MaxPoolin (None, 20, 86, 32)        0         \n",
            "_________________________________________________________________\n",
            "conv2d_122 (Conv2D)          (None, 20, 86, 32)        9248      \n",
            "_________________________________________________________________\n",
            "batch_normalization_144 (Bat (None, 20, 86, 32)        128       \n",
            "_________________________________________________________________\n",
            "activation_144 (Activation)  (None, 20, 86, 32)        0         \n",
            "_________________________________________________________________\n",
            "max_pooling2d_123 (MaxPoolin (None, 6, 28, 32)         0         \n",
            "_________________________________________________________________\n",
            "conv2d_123 (Conv2D)          (None, 6, 28, 32)         9248      \n",
            "_________________________________________________________________\n",
            "batch_normalization_145 (Bat (None, 6, 28, 32)         128       \n",
            "_________________________________________________________________\n",
            "activation_145 (Activation)  (None, 6, 28, 32)         0         \n",
            "_________________________________________________________________\n",
            "max_pooling2d_124 (MaxPoolin (None, 1, 7, 32)          0         \n",
            "_________________________________________________________________\n",
            "flatten_23 (Flatten)         (None, 224)               0         \n",
            "_________________________________________________________________\n",
            "dense_43 (Dense)             (None, 64)                14400     \n",
            "_________________________________________________________________\n",
            "batch_normalization_146 (Bat (None, 64)                256       \n",
            "_________________________________________________________________\n",
            "activation_146 (Activation)  (None, 64)                0         \n",
            "_________________________________________________________________\n",
            "dense_44 (Dense)             (None, 128)               8320      \n",
            "_________________________________________________________________\n",
            "batch_normalization_147 (Bat (None, 128)               512       \n",
            "_________________________________________________________________\n",
            "activation_147 (Activation)  (None, 128)               0         \n",
            "_________________________________________________________________\n",
            "dense_45 (Dense)             (None, 41)                5289      \n",
            "=================================================================\n",
            "Total params: 47,977\n",
            "Trainable params: 47,401\n",
            "Non-trainable params: 576\n",
            "_________________________________________________________________\n",
            "None\n"
          ],
          "name": "stdout"
        }
      ]
    },
    {
      "metadata": {
        "id": "yBAA4fzzdToE",
        "colab_type": "code",
        "colab": {
          "base_uri": "https://localhost:8080/",
          "height": 54
        },
        "outputId": "f3c457ba-08b4-48bc-8a29-95de6f85eb17"
      },
      "cell_type": "code",
      "source": [
        "coll=Collector(\"audio_train\",2)\n"
      ],
      "execution_count": 190,
      "outputs": [
        {
          "output_type": "stream",
          "text": [
            "{'Acoustic_guitar': 0, 'Applause': 1, 'Bark': 2, 'Bass_drum': 3, 'Burping_or_eructation': 4, 'Bus': 5, 'Cello': 6, 'Chime': 7, 'Clarinet': 8, 'Computer_keyboard': 9, 'Cough': 10, 'Cowbell': 11, 'Double_bass': 12, 'Drawer_open_or_close': 13, 'Electric_piano': 14, 'Fart': 15, 'Finger_snapping': 16, 'Fireworks': 17, 'Flute': 18, 'Glockenspiel': 19, 'Gong': 20, 'Gunshot_or_gunfire': 21, 'Harmonica': 22, 'Hi-hat': 23, 'Keys_jangling': 24, 'Knock': 25, 'Laughter': 26, 'Meow': 27, 'Microwave_oven': 28, 'Oboe': 29, 'Saxophone': 30, 'Scissors': 31, 'Shatter': 32, 'Snare_drum': 33, 'Squeak': 34, 'Tambourine': 35, 'Tearing': 36, 'Telephone': 37, 'Trumpet': 38, 'Violin_or_fiddle': 39, 'Writing': 40}\n"
          ],
          "name": "stdout"
        }
      ]
    },
    {
      "metadata": {
        "id": "gVv9peNNHc2t",
        "colab_type": "code",
        "colab": {
          "base_uri": "https://localhost:8080/",
          "height": 34
        },
        "outputId": "8ff99cd5-fb44-4fe2-fc36-4ad01f314041"
      },
      "cell_type": "code",
      "source": [
        "print(train1.shape)"
      ],
      "execution_count": 192,
      "outputs": [
        {
          "output_type": "stream",
          "text": [
            "(2000, 40, 173)\n"
          ],
          "name": "stdout"
        }
      ]
    },
    {
      "metadata": {
        "id": "mdIz9xuFUS4i",
        "colab_type": "code",
        "colab": {}
      },
      "cell_type": "code",
      "source": [
        "from keras.utils import to_categorical"
      ],
      "execution_count": 0,
      "outputs": []
    },
    {
      "metadata": {
        "id": "GRAJxbtOH-J4",
        "colab_type": "code",
        "colab": {}
      },
      "cell_type": "code",
      "source": [
        "trainin=np.concatenate((train1,train2),axis=0)"
      ],
      "execution_count": 0,
      "outputs": []
    },
    {
      "metadata": {
        "id": "eF3hNOU-H-UQ",
        "colab_type": "code",
        "colab": {}
      },
      "cell_type": "code",
      "source": [
        "labelin=np.concatenate((label1,label2),axis=0)"
      ],
      "execution_count": 0,
      "outputs": []
    },
    {
      "metadata": {
        "id": "YG0vTt5cIN_l",
        "colab_type": "code",
        "colab": {}
      },
      "cell_type": "code",
      "source": [
        "train3,label3=coll.next_batch(2000)"
      ],
      "execution_count": 0,
      "outputs": []
    },
    {
      "metadata": {
        "id": "ywVqvEYaU0P1",
        "colab_type": "code",
        "colab": {}
      },
      "cell_type": "code",
      "source": [
        "trainin2=np.concatenate((trainin,train3),axis=0)"
      ],
      "execution_count": 0,
      "outputs": []
    },
    {
      "metadata": {
        "id": "ij2Aefr6U6Gc",
        "colab_type": "code",
        "colab": {}
      },
      "cell_type": "code",
      "source": [
        "labelin2=np.concatenate((labelin,label3),axis=0)"
      ],
      "execution_count": 0,
      "outputs": []
    },
    {
      "metadata": {
        "id": "1CE1QoxjIOC_",
        "colab_type": "code",
        "colab": {}
      },
      "cell_type": "code",
      "source": [
        "trainin=np.concatenate((trainin2,train4),axis=0)"
      ],
      "execution_count": 0,
      "outputs": []
    },
    {
      "metadata": {
        "id": "epVg9WuqIOFp",
        "colab_type": "code",
        "colab": {}
      },
      "cell_type": "code",
      "source": [
        "labelin=np.concatenate((labelin2,label4),axis=0)"
      ],
      "execution_count": 0,
      "outputs": []
    },
    {
      "metadata": {
        "id": "Bt0kxalfJUnc",
        "colab_type": "code",
        "colab": {}
      },
      "cell_type": "code",
      "source": [
        "train4,label4=coll.next_batch(2000)"
      ],
      "execution_count": 0,
      "outputs": []
    },
    {
      "metadata": {
        "id": "zPywznWOJUqc",
        "colab_type": "code",
        "colab": {}
      },
      "cell_type": "code",
      "source": [
        "train5,label5=coll.next_batch(2000)"
      ],
      "execution_count": 0,
      "outputs": []
    },
    {
      "metadata": {
        "id": "K-TQCcuFVmNH",
        "colab_type": "code",
        "colab": {
          "base_uri": "https://localhost:8080/",
          "height": 34
        },
        "outputId": "e328a8d3-db23-4b5a-9860-a1f21289adee"
      },
      "cell_type": "code",
      "source": [
        "trainin.shape"
      ],
      "execution_count": 205,
      "outputs": [
        {
          "output_type": "execute_result",
          "data": {
            "text/plain": [
              "(8000, 40, 173)"
            ]
          },
          "metadata": {
            "tags": []
          },
          "execution_count": 205
        }
      ]
    },
    {
      "metadata": {
        "id": "c7ZZAzn0JUtc",
        "colab_type": "code",
        "colab": {}
      },
      "cell_type": "code",
      "source": [
        "Train=np.concatenate((trainin,train5),axis=0)"
      ],
      "execution_count": 0,
      "outputs": []
    },
    {
      "metadata": {
        "id": "avZyeK5GKYD5",
        "colab_type": "code",
        "colab": {}
      },
      "cell_type": "code",
      "source": [
        "Label=np.concatenate((labelin,label5),axis=0)"
      ],
      "execution_count": 0,
      "outputs": []
    },
    {
      "metadata": {
        "id": "2YbgLavIKmJi",
        "colab_type": "code",
        "colab": {
          "base_uri": "https://localhost:8080/",
          "height": 51
        },
        "outputId": "3e8f0d51-41a4-4a52-a6be-1ed69f5e62ee"
      },
      "cell_type": "code",
      "source": [
        "print(Train.shape)   #Loaded Train and Label files of Training audio files\n",
        "print(Label.shape)"
      ],
      "execution_count": 443,
      "outputs": [
        {
          "output_type": "stream",
          "text": [
            "(9473, 40, 173, 1)\n",
            "(9473, 41)\n"
          ],
          "name": "stdout"
        }
      ]
    },
    {
      "metadata": {
        "id": "ejmFHR-frm-W",
        "colab_type": "code",
        "colab": {}
      },
      "cell_type": "code",
      "source": [
        "Train=np.expand_dims(Train,axis=-1)"
      ],
      "execution_count": 0,
      "outputs": []
    },
    {
      "metadata": {
        "id": "_x6w5W45d61V",
        "colab_type": "code",
        "colab": {}
      },
      "cell_type": "code",
      "source": [
        "VTrain=Train[8000:9473]  #seperating audio files for validation"
      ],
      "execution_count": 0,
      "outputs": []
    },
    {
      "metadata": {
        "id": "NB3kOu78eAUu",
        "colab_type": "code",
        "colab": {}
      },
      "cell_type": "code",
      "source": [
        "VLabel=Label[8000:9473]"
      ],
      "execution_count": 0,
      "outputs": []
    },
    {
      "metadata": {
        "id": "5unPSi4JeIic",
        "colab_type": "code",
        "colab": {}
      },
      "cell_type": "code",
      "source": [
        "Label=Label[0:8000]"
      ],
      "execution_count": 0,
      "outputs": []
    },
    {
      "metadata": {
        "id": "gsvFNgbOeLpM",
        "colab_type": "code",
        "colab": {
          "base_uri": "https://localhost:8080/",
          "height": 51
        },
        "outputId": "6b760e13-60a4-441d-9bc3-26d3f59dab8b"
      },
      "cell_type": "code",
      "source": [
        "print(Train.shape)\n",
        "print(VTrain.shape)"
      ],
      "execution_count": 308,
      "outputs": [
        {
          "output_type": "stream",
          "text": [
            "(8000, 40, 173)\n",
            "(1473, 40, 173)\n"
          ],
          "name": "stdout"
        }
      ]
    },
    {
      "metadata": {
        "id": "AaXPUFdoeb9B",
        "colab_type": "code",
        "colab": {
          "base_uri": "https://localhost:8080/",
          "height": 51
        },
        "outputId": "014f95a2-55dd-4ea3-ab6b-ef6fa4e302a4"
      },
      "cell_type": "code",
      "source": [
        "print(Label.shape)\n",
        "print(VLabel.shape)"
      ],
      "execution_count": 276,
      "outputs": [
        {
          "output_type": "stream",
          "text": [
            "(8000, 41)\n",
            "(1473, 41)\n"
          ],
          "name": "stdout"
        }
      ]
    },
    {
      "metadata": {
        "id": "FivOVhA2Kpv4",
        "colab_type": "code",
        "colab": {}
      },
      "cell_type": "code",
      "source": [
        "Train=np.expand_dims(Train,axis=-1)"
      ],
      "execution_count": 0,
      "outputs": []
    },
    {
      "metadata": {
        "id": "9DXcRdN9dbl2",
        "colab_type": "code",
        "colab": {
          "base_uri": "https://localhost:8080/",
          "height": 544
        },
        "outputId": "04f05f95-bb89-4e2b-ef84-2c2bc83128eb"
      },
      "cell_type": "code",
      "source": [
        "model.fit(Train, Label, batch_size=64, epochs=15,shuffle=True)"
      ],
      "execution_count": 361,
      "outputs": [
        {
          "output_type": "stream",
          "text": [
            "Epoch 1/15\n",
            "9473/9473 [==============================] - 7s 748us/step - loss: 1.4959 - acc: 0.5934\n",
            "Epoch 2/15\n",
            "9473/9473 [==============================] - 7s 729us/step - loss: 1.4766 - acc: 0.6010\n",
            "Epoch 3/15\n",
            "9473/9473 [==============================] - 7s 732us/step - loss: 1.4584 - acc: 0.6057\n",
            "Epoch 4/15\n",
            "9473/9473 [==============================] - 7s 729us/step - loss: 1.4294 - acc: 0.6152\n",
            "Epoch 5/15\n",
            "9473/9473 [==============================] - 7s 731us/step - loss: 1.4115 - acc: 0.6183\n",
            "Epoch 6/15\n",
            "9473/9473 [==============================] - 7s 732us/step - loss: 1.3803 - acc: 0.6264\n",
            "Epoch 7/15\n",
            "9473/9473 [==============================] - 7s 735us/step - loss: 1.3659 - acc: 0.6343\n",
            "Epoch 8/15\n",
            "9473/9473 [==============================] - 7s 737us/step - loss: 1.3405 - acc: 0.6349\n",
            "Epoch 9/15\n",
            "9473/9473 [==============================] - 7s 736us/step - loss: 1.3342 - acc: 0.6367\n",
            "Epoch 10/15\n",
            "9473/9473 [==============================] - 7s 740us/step - loss: 1.3034 - acc: 0.6459\n",
            "Epoch 11/15\n",
            "9473/9473 [==============================] - 7s 739us/step - loss: 1.2918 - acc: 0.6495\n",
            "Epoch 12/15\n",
            "9473/9473 [==============================] - 7s 731us/step - loss: 1.2719 - acc: 0.6527\n",
            "Epoch 13/15\n",
            "9473/9473 [==============================] - 7s 742us/step - loss: 1.2529 - acc: 0.6558\n",
            "Epoch 14/15\n",
            "9473/9473 [==============================] - 7s 743us/step - loss: 1.2301 - acc: 0.6622\n",
            "Epoch 15/15\n",
            "9473/9473 [==============================] - 7s 748us/step - loss: 1.2201 - acc: 0.6667\n"
          ],
          "name": "stdout"
        },
        {
          "output_type": "execute_result",
          "data": {
            "text/plain": [
              "<keras.callbacks.History at 0x7f5b4f35b278>"
            ]
          },
          "metadata": {
            "tags": []
          },
          "execution_count": 361
        }
      ]
    },
    {
      "metadata": {
        "id": "c8SLkJJBt2bj",
        "colab_type": "code",
        "colab": {
          "base_uri": "https://localhost:8080/",
          "height": 51
        },
        "outputId": "ab5c0a57-b531-494b-d2e1-4ac1505ae160"
      },
      "cell_type": "code",
      "source": [
        "VTrain=np.expand_dims(VTrain,axis=-1)\n",
        "model.evaluate(VTrain,VLabel,verbose=1,batch_size=64)"
      ],
      "execution_count": 322,
      "outputs": [
        {
          "output_type": "stream",
          "text": [
            "1473/1473 [==============================] - 2s 1ms/step\n"
          ],
          "name": "stdout"
        },
        {
          "output_type": "execute_result",
          "data": {
            "text/plain": [
              "[1.8089967052384615, 0.5424304141208418]"
            ]
          },
          "metadata": {
            "tags": []
          },
          "execution_count": 322
        }
      ]
    },
    {
      "metadata": {
        "id": "ucvQagInaPqH",
        "colab_type": "code",
        "colab": {
          "base_uri": "https://localhost:8080/",
          "height": 544
        },
        "outputId": "b0e35cd0-07fa-4e10-fd09-e4cf8990ce18"
      },
      "cell_type": "code",
      "source": [
        "model.fit(Train, Label, batch_size=32, epochs=15)"
      ],
      "execution_count": 236,
      "outputs": [
        {
          "output_type": "stream",
          "text": [
            "Epoch 1/15\n",
            "9473/9473 [==============================] - 15s 2ms/step - loss: 2.7665 - acc: 0.2680\n",
            "Epoch 2/15\n",
            "9473/9473 [==============================] - 12s 1ms/step - loss: 2.1434 - acc: 0.4169\n",
            "Epoch 3/15\n",
            "9473/9473 [==============================] - 12s 1ms/step - loss: 1.8473 - acc: 0.4908\n",
            "Epoch 4/15\n",
            "9473/9473 [==============================] - 12s 1ms/step - loss: 1.6606 - acc: 0.5437\n",
            "Epoch 5/15\n",
            "9473/9473 [==============================] - 12s 1ms/step - loss: 1.5255 - acc: 0.5748\n",
            "Epoch 6/15\n",
            "9473/9473 [==============================] - 12s 1ms/step - loss: 1.4085 - acc: 0.5997\n",
            "Epoch 7/15\n",
            "9473/9473 [==============================] - 12s 1ms/step - loss: 1.3067 - acc: 0.6346\n",
            "Epoch 8/15\n",
            "9473/9473 [==============================] - 12s 1ms/step - loss: 1.2172 - acc: 0.6563\n",
            "Epoch 9/15\n",
            "9473/9473 [==============================] - 12s 1ms/step - loss: 1.1354 - acc: 0.6757\n",
            "Epoch 10/15\n",
            "9473/9473 [==============================] - 12s 1ms/step - loss: 1.0699 - acc: 0.6965\n",
            "Epoch 11/15\n",
            "9473/9473 [==============================] - 12s 1ms/step - loss: 0.9868 - acc: 0.7203\n",
            "Epoch 12/15\n",
            "9473/9473 [==============================] - 12s 1ms/step - loss: 0.9262 - acc: 0.7378\n",
            "Epoch 13/15\n",
            "9473/9473 [==============================] - 12s 1ms/step - loss: 0.8775 - acc: 0.7491\n",
            "Epoch 14/15\n",
            "9473/9473 [==============================] - 12s 1ms/step - loss: 0.8161 - acc: 0.7642\n",
            "Epoch 15/15\n",
            "9473/9473 [==============================] - 12s 1ms/step - loss: 0.7513 - acc: 0.7812\n"
          ],
          "name": "stdout"
        },
        {
          "output_type": "execute_result",
          "data": {
            "text/plain": [
              "<keras.callbacks.History at 0x7f5b719fdac8>"
            ]
          },
          "metadata": {
            "tags": []
          },
          "execution_count": 236
        }
      ]
    },
    {
      "metadata": {
        "id": "MkpdAiWfCv-N",
        "colab_type": "code",
        "colab": {
          "base_uri": "https://localhost:8080/",
          "height": 867
        },
        "outputId": "935d9268-d42d-4efa-c0f9-8a5f1607762c"
      },
      "cell_type": "code",
      "source": [
        "model2 = Sequential()  \n",
        "  \n",
        "model2.add(Convolution2D(32, (4,10),padding=\"same\",input_shape=(40,173,1)))\n",
        "model2.add(BatchNormalization())\n",
        "model2.add(Activation(\"relu\"))\n",
        "model2.add(MaxPool2D())\n",
        "\n",
        "model2.add(Convolution2D(32, (4,10), padding=\"same\"))\n",
        "model2.add(BatchNormalization())\n",
        "model2.add(Activation(\"relu\"))\n",
        "model2.add(MaxPool2D())\n",
        "\n",
        "model2.add(Convolution2D(32, (4,10), padding=\"same\"))\n",
        "model2.add(BatchNormalization())\n",
        "model2.add(Activation(\"relu\"))\n",
        "model2.add(MaxPool2D())\n",
        "\n",
        "model2.add(Convolution2D(32, (4,10), padding=\"same\"))\n",
        "model2.add(BatchNormalization())\n",
        "model2.add(Activation(\"relu\"))\n",
        "model2.add(MaxPool2D())\n",
        "\n",
        "model2.add(Flatten())\n",
        "model2.add(Dense(64))\n",
        "model2.add(BatchNormalization())\n",
        "model2.add(Activation(\"relu\"))\n",
        "model2.add(Dense(41, activation=\"softmax\"))\n",
        "\n",
        "sgd = SGD(lr=0.01, decay=1e-6, momentum=0.9, nesterov=True)\n",
        "#adadelta=Adadelta()\n",
        "adam=Adam()\n",
        "model2.compile(loss='categorical_crossentropy', optimizer=adam, metrics=['accuracy'])\n",
        "print(model2.summary())"
      ],
      "execution_count": 413,
      "outputs": [
        {
          "output_type": "stream",
          "text": [
            "_________________________________________________________________\n",
            "Layer (type)                 Output Shape              Param #   \n",
            "=================================================================\n",
            "conv2d_124 (Conv2D)          (None, 40, 173, 32)       1312      \n",
            "_________________________________________________________________\n",
            "batch_normalization_148 (Bat (None, 40, 173, 32)       128       \n",
            "_________________________________________________________________\n",
            "activation_148 (Activation)  (None, 40, 173, 32)       0         \n",
            "_________________________________________________________________\n",
            "max_pooling2d_125 (MaxPoolin (None, 20, 86, 32)        0         \n",
            "_________________________________________________________________\n",
            "conv2d_125 (Conv2D)          (None, 20, 86, 32)        40992     \n",
            "_________________________________________________________________\n",
            "batch_normalization_149 (Bat (None, 20, 86, 32)        128       \n",
            "_________________________________________________________________\n",
            "activation_149 (Activation)  (None, 20, 86, 32)        0         \n",
            "_________________________________________________________________\n",
            "max_pooling2d_126 (MaxPoolin (None, 10, 43, 32)        0         \n",
            "_________________________________________________________________\n",
            "conv2d_126 (Conv2D)          (None, 10, 43, 32)        40992     \n",
            "_________________________________________________________________\n",
            "batch_normalization_150 (Bat (None, 10, 43, 32)        128       \n",
            "_________________________________________________________________\n",
            "activation_150 (Activation)  (None, 10, 43, 32)        0         \n",
            "_________________________________________________________________\n",
            "max_pooling2d_127 (MaxPoolin (None, 5, 21, 32)         0         \n",
            "_________________________________________________________________\n",
            "conv2d_127 (Conv2D)          (None, 5, 21, 32)         40992     \n",
            "_________________________________________________________________\n",
            "batch_normalization_151 (Bat (None, 5, 21, 32)         128       \n",
            "_________________________________________________________________\n",
            "activation_151 (Activation)  (None, 5, 21, 32)         0         \n",
            "_________________________________________________________________\n",
            "max_pooling2d_128 (MaxPoolin (None, 2, 10, 32)         0         \n",
            "_________________________________________________________________\n",
            "flatten_24 (Flatten)         (None, 640)               0         \n",
            "_________________________________________________________________\n",
            "dense_46 (Dense)             (None, 64)                41024     \n",
            "_________________________________________________________________\n",
            "batch_normalization_152 (Bat (None, 64)                256       \n",
            "_________________________________________________________________\n",
            "activation_152 (Activation)  (None, 64)                0         \n",
            "_________________________________________________________________\n",
            "dense_47 (Dense)             (None, 41)                2665      \n",
            "=================================================================\n",
            "Total params: 168,745\n",
            "Trainable params: 168,361\n",
            "Non-trainable params: 384\n",
            "_________________________________________________________________\n",
            "None\n"
          ],
          "name": "stdout"
        }
      ]
    },
    {
      "metadata": {
        "id": "3DUem1WlHYl1",
        "colab_type": "code",
        "colab": {
          "base_uri": "https://localhost:8080/",
          "height": 901
        },
        "outputId": "8d224e87-bdaf-47f7-fcbb-3af8e5771ddb"
      },
      "cell_type": "code",
      "source": [
        "model3 = Sequential()  \n",
        "  \n",
        "model3.add(Convolution2D(32, (4,10),padding=\"same\",input_shape=(40,173,1)))\n",
        "model3.add(BatchNormalization())\n",
        "model3.add(Activation(\"relu\"))\n",
        "model3.add(MaxPool2D())\n",
        "\n",
        "model3.add(Convolution2D(32, (4,10), padding=\"same\"))\n",
        "model3.add(BatchNormalization())\n",
        "model3.add(Activation(\"relu\"))\n",
        "model3.add(MaxPool2D())\n",
        "\n",
        "model3.add(Convolution2D(32, (4,10), padding=\"same\"))\n",
        "model3.add(BatchNormalization())\n",
        "model3.add(Activation(\"relu\"))\n",
        "model3.add(MaxPool2D())\n",
        "\n",
        "model3.add(Convolution2D(32, (4,10), padding=\"same\"))\n",
        "model3.add(BatchNormalization())\n",
        "model3.add(Activation(\"relu\"))\n",
        "model3.add(MaxPool2D())\n",
        "model3.add(Reshape((64,10)))\n",
        "model3.add(LSTM(128))\n",
        "#model3.add(Flatten())\n",
        "model3.add(Dense(64))\n",
        "model3.add(BatchNormalization())\n",
        "model3.add(Activation(\"relu\"))\n",
        "model3.add(Dense(41, activation=\"softmax\"))\n",
        "\n",
        "sgd = SGD(lr=0.01, decay=1e-6, momentum=0.9, nesterov=True)\n",
        "adadelta=Adadelta()\n",
        "adam=Adam()\n",
        "model3.compile(loss='categorical_crossentropy', optimizer=adam, metrics=['accuracy'])\n",
        "print(model3.summary())"
      ],
      "execution_count": 452,
      "outputs": [
        {
          "output_type": "stream",
          "text": [
            "_________________________________________________________________\n",
            "Layer (type)                 Output Shape              Param #   \n",
            "=================================================================\n",
            "conv2d_148 (Conv2D)          (None, 40, 173, 32)       1312      \n",
            "_________________________________________________________________\n",
            "batch_normalization_176 (Bat (None, 40, 173, 32)       128       \n",
            "_________________________________________________________________\n",
            "activation_176 (Activation)  (None, 40, 173, 32)       0         \n",
            "_________________________________________________________________\n",
            "max_pooling2d_149 (MaxPoolin (None, 20, 86, 32)        0         \n",
            "_________________________________________________________________\n",
            "conv2d_149 (Conv2D)          (None, 20, 86, 32)        40992     \n",
            "_________________________________________________________________\n",
            "batch_normalization_177 (Bat (None, 20, 86, 32)        128       \n",
            "_________________________________________________________________\n",
            "activation_177 (Activation)  (None, 20, 86, 32)        0         \n",
            "_________________________________________________________________\n",
            "max_pooling2d_150 (MaxPoolin (None, 10, 43, 32)        0         \n",
            "_________________________________________________________________\n",
            "conv2d_150 (Conv2D)          (None, 10, 43, 32)        40992     \n",
            "_________________________________________________________________\n",
            "batch_normalization_178 (Bat (None, 10, 43, 32)        128       \n",
            "_________________________________________________________________\n",
            "activation_178 (Activation)  (None, 10, 43, 32)        0         \n",
            "_________________________________________________________________\n",
            "max_pooling2d_151 (MaxPoolin (None, 5, 21, 32)         0         \n",
            "_________________________________________________________________\n",
            "conv2d_151 (Conv2D)          (None, 5, 21, 32)         40992     \n",
            "_________________________________________________________________\n",
            "batch_normalization_179 (Bat (None, 5, 21, 32)         128       \n",
            "_________________________________________________________________\n",
            "activation_179 (Activation)  (None, 5, 21, 32)         0         \n",
            "_________________________________________________________________\n",
            "max_pooling2d_152 (MaxPoolin (None, 2, 10, 32)         0         \n",
            "_________________________________________________________________\n",
            "reshape_4 (Reshape)          (None, 64, 10)            0         \n",
            "_________________________________________________________________\n",
            "lstm_10 (LSTM)               (None, 128)               71168     \n",
            "_________________________________________________________________\n",
            "dense_54 (Dense)             (None, 64)                8256      \n",
            "_________________________________________________________________\n",
            "batch_normalization_180 (Bat (None, 64)                256       \n",
            "_________________________________________________________________\n",
            "activation_180 (Activation)  (None, 64)                0         \n",
            "_________________________________________________________________\n",
            "dense_55 (Dense)             (None, 41)                2665      \n",
            "=================================================================\n",
            "Total params: 207,145\n",
            "Trainable params: 206,761\n",
            "Non-trainable params: 384\n",
            "_________________________________________________________________\n",
            "None\n"
          ],
          "name": "stdout"
        }
      ]
    },
    {
      "metadata": {
        "id": "_VuB5A-0jbp_",
        "colab_type": "code",
        "colab": {}
      },
      "cell_type": "code",
      "source": [
        "from keras.layers import Reshape,LSTM"
      ],
      "execution_count": 0,
      "outputs": []
    },
    {
      "metadata": {
        "id": "Cc3eCvKedpGY",
        "colab_type": "code",
        "colab": {
          "base_uri": "https://localhost:8080/",
          "height": 204
        },
        "outputId": "d86b2fdf-95a6-4363-ac55-e2115be3a311"
      },
      "cell_type": "code",
      "source": [
        "model3.fit(Train, Label, batch_size=32, epochs=5)"
      ],
      "execution_count": 453,
      "outputs": [
        {
          "output_type": "stream",
          "text": [
            "Epoch 1/5\n",
            "9473/9473 [==============================] - 69s 7ms/step - loss: 3.0392 - acc: 0.1608\n",
            "Epoch 2/5\n",
            "9473/9473 [==============================] - 64s 7ms/step - loss: 2.5165 - acc: 0.2981\n",
            "Epoch 3/5\n",
            "9473/9473 [==============================] - 64s 7ms/step - loss: 2.2472 - acc: 0.3609\n",
            "Epoch 4/5\n",
            "9473/9473 [==============================] - 64s 7ms/step - loss: 2.0681 - acc: 0.4117\n",
            "Epoch 5/5\n",
            "9473/9473 [==============================] - 64s 7ms/step - loss: 1.9351 - acc: 0.4495\n"
          ],
          "name": "stdout"
        },
        {
          "output_type": "execute_result",
          "data": {
            "text/plain": [
              "<keras.callbacks.History at 0x7f5b289df898>"
            ]
          },
          "metadata": {
            "tags": []
          },
          "execution_count": 453
        }
      ]
    },
    {
      "metadata": {
        "id": "lfwlxHQ9md4f",
        "colab_type": "code",
        "colab": {
          "base_uri": "https://localhost:8080/",
          "height": 374
        },
        "outputId": "26e108f0-6bf7-4a96-ee63-3f189bfeff57"
      },
      "cell_type": "code",
      "source": [
        "model3.fit(Train, Label, batch_size=32, epochs=10)"
      ],
      "execution_count": 454,
      "outputs": [
        {
          "output_type": "stream",
          "text": [
            "Epoch 1/10\n",
            "9473/9473 [==============================] - 64s 7ms/step - loss: 1.8398 - acc: 0.4697\n",
            "Epoch 2/10\n",
            "9473/9473 [==============================] - 64s 7ms/step - loss: 1.7575 - acc: 0.4973\n",
            "Epoch 3/10\n",
            "9473/9473 [==============================] - 64s 7ms/step - loss: 1.6630 - acc: 0.5217\n",
            "Epoch 4/10\n",
            "9473/9473 [==============================] - 64s 7ms/step - loss: 1.5938 - acc: 0.5409\n",
            "Epoch 5/10\n",
            "9473/9473 [==============================] - 64s 7ms/step - loss: 1.5401 - acc: 0.5596\n",
            "Epoch 6/10\n",
            "9473/9473 [==============================] - 64s 7ms/step - loss: 1.4623 - acc: 0.5755\n",
            "Epoch 7/10\n",
            "9473/9473 [==============================] - 64s 7ms/step - loss: 1.4160 - acc: 0.5894\n",
            "Epoch 8/10\n",
            "9473/9473 [==============================] - 64s 7ms/step - loss: 1.3532 - acc: 0.6059\n",
            "Epoch 9/10\n",
            "9473/9473 [==============================] - 64s 7ms/step - loss: 1.2987 - acc: 0.6265\n",
            "Epoch 10/10\n",
            "9473/9473 [==============================] - 64s 7ms/step - loss: 1.2530 - acc: 0.6324\n"
          ],
          "name": "stdout"
        },
        {
          "output_type": "execute_result",
          "data": {
            "text/plain": [
              "<keras.callbacks.History at 0x7f5b2263cbe0>"
            ]
          },
          "metadata": {
            "tags": []
          },
          "execution_count": 454
        }
      ]
    },
    {
      "metadata": {
        "id": "-cmEX5xMpHU1",
        "colab_type": "code",
        "colab": {
          "base_uri": "https://localhost:8080/",
          "height": 204
        },
        "outputId": "5ed47df3-c9ce-4566-fe32-3724ccf900e5"
      },
      "cell_type": "code",
      "source": [
        "model3.fit(Train, Label, batch_size=32, epochs=5)"
      ],
      "execution_count": 458,
      "outputs": [
        {
          "output_type": "stream",
          "text": [
            "Epoch 1/5\n",
            "9473/9473 [==============================] - 63s 7ms/step - loss: 1.2160 - acc: 0.6467\n",
            "Epoch 2/5\n",
            "9473/9473 [==============================] - 64s 7ms/step - loss: 1.1792 - acc: 0.6545\n",
            "Epoch 3/5\n",
            "9473/9473 [==============================] - 64s 7ms/step - loss: 1.1462 - acc: 0.6629\n",
            "Epoch 4/5\n",
            "9473/9473 [==============================] - 64s 7ms/step - loss: 1.0952 - acc: 0.6796\n",
            "Epoch 5/5\n",
            "9473/9473 [==============================] - 64s 7ms/step - loss: 1.0588 - acc: 0.6913\n"
          ],
          "name": "stdout"
        },
        {
          "output_type": "execute_result",
          "data": {
            "text/plain": [
              "<keras.callbacks.History at 0x7f5b225c4f60>"
            ]
          },
          "metadata": {
            "tags": []
          },
          "execution_count": 458
        }
      ]
    },
    {
      "metadata": {
        "id": "E6JJ85Syqgm-",
        "colab_type": "code",
        "colab": {
          "base_uri": "https://localhost:8080/",
          "height": 102
        },
        "outputId": "fb4396b2-28e7-4aa3-840f-2ada56f0a81d"
      },
      "cell_type": "code",
      "source": [
        "model3.fit(Train, Label, batch_size=32, epochs=2)"
      ],
      "execution_count": 469,
      "outputs": [
        {
          "output_type": "stream",
          "text": [
            "Epoch 1/2\n",
            "9473/9473 [==============================] - 63s 7ms/step - loss: 0.6321 - acc: 0.8086\n",
            "Epoch 2/2\n",
            "9473/9473 [==============================] - 64s 7ms/step - loss: 0.6138 - acc: 0.8090\n"
          ],
          "name": "stdout"
        },
        {
          "output_type": "execute_result",
          "data": {
            "text/plain": [
              "<keras.callbacks.History at 0x7f5b2263c080>"
            ]
          },
          "metadata": {
            "tags": []
          },
          "execution_count": 469
        }
      ]
    },
    {
      "metadata": {
        "id": "xRpRjon5MA5A",
        "colab_type": "code",
        "colab": {
          "base_uri": "https://localhost:8080/",
          "height": 51
        },
        "outputId": "12d738f3-a0cf-4b83-fa96-0efa8d4a31d1"
      },
      "cell_type": "code",
      "source": [
        "model2.evaluate(Test,tlabel,batch_size=32,verbose=1)"
      ],
      "execution_count": 415,
      "outputs": [
        {
          "output_type": "stream",
          "text": [
            "1600/1600 [==============================] - 3s 2ms/step\n"
          ],
          "name": "stdout"
        },
        {
          "output_type": "execute_result",
          "data": {
            "text/plain": [
              "[1.6709439301490783, 0.6125]"
            ]
          },
          "metadata": {
            "tags": []
          },
          "execution_count": 415
        }
      ]
    },
    {
      "metadata": {
        "id": "uMoqZQciPhLa",
        "colab_type": "code",
        "colab": {
          "base_uri": "https://localhost:8080/",
          "height": 51
        },
        "outputId": "40f406e9-5271-47d3-c649-f6fc1292deb8"
      },
      "cell_type": "code",
      "source": [
        ""
      ],
      "execution_count": 440,
      "outputs": [
        {
          "output_type": "stream",
          "text": [
            "1299/1299 [==============================] - 1s 674us/step\n"
          ],
          "name": "stdout"
        },
        {
          "output_type": "execute_result",
          "data": {
            "text/plain": [
              "[1.7349350990195564, 0.5935334871602664]"
            ]
          },
          "metadata": {
            "tags": []
          },
          "execution_count": 440
        }
      ]
    },
    {
      "metadata": {
        "id": "9fswfrkdo0pG",
        "colab_type": "code",
        "colab": {
          "base_uri": "https://localhost:8080/",
          "height": 51
        },
        "outputId": "a73d3033-97cb-4836-a493-d2e7123342f5"
      },
      "cell_type": "code",
      "source": [
        "model3.evaluate(Private_Test,plabel,batch_size=32,verbose=1)"
      ],
      "execution_count": 471,
      "outputs": [
        {
          "output_type": "stream",
          "text": [
            "1299/1299 [==============================] - 2s 2ms/step\n"
          ],
          "name": "stdout"
        },
        {
          "output_type": "execute_result",
          "data": {
            "text/plain": [
              "[1.8956046548598173, 0.5696689757684087]"
            ]
          },
          "metadata": {
            "tags": []
          },
          "execution_count": 471
        }
      ]
    },
    {
      "metadata": {
        "id": "CVzuQxsuPhHD",
        "colab_type": "code",
        "colab": {
          "base_uri": "https://localhost:8080/",
          "height": 51
        },
        "outputId": "41fef27e-9575-4783-d9ff-44163da284d3"
      },
      "cell_type": "code",
      "source": [
        "model2.evaluate(Public_Test,pulabel,batch_size=32,verbose=1)"
      ],
      "execution_count": 456,
      "outputs": [
        {
          "output_type": "stream",
          "text": [
            "301/301 [==============================] - 0s 785us/step\n"
          ],
          "name": "stdout"
        },
        {
          "output_type": "execute_result",
          "data": {
            "text/plain": [
              "[1.404808348595502, 0.6478405325515721]"
            ]
          },
          "metadata": {
            "tags": []
          },
          "execution_count": 456
        }
      ]
    },
    {
      "metadata": {
        "id": "00BA8DUjo1zX",
        "colab_type": "code",
        "colab": {
          "base_uri": "https://localhost:8080/",
          "height": 51
        },
        "outputId": "86cc89ee-2865-4bfb-e32e-8aaf65e14c05"
      },
      "cell_type": "code",
      "source": [
        "model3.evaluate(Public_Test,pulabel,batch_size=32,verbose=1)"
      ],
      "execution_count": 468,
      "outputs": [
        {
          "output_type": "stream",
          "text": [
            "301/301 [==============================] - 1s 2ms/step\n"
          ],
          "name": "stdout"
        },
        {
          "output_type": "execute_result",
          "data": {
            "text/plain": [
              "[1.5147284154480083, 0.6013289039515182]"
            ]
          },
          "metadata": {
            "tags": []
          },
          "execution_count": 468
        }
      ]
    },
    {
      "metadata": {
        "id": "jkmTFhYseNOd",
        "colab_type": "code",
        "colab": {
          "base_uri": "https://localhost:8080/",
          "height": 102
        },
        "outputId": "bfd2097c-afe3-403c-a224-92c397498ddd"
      },
      "cell_type": "code",
      "source": [
        "model3.fit(Train, Label, batch_size=32, epochs=2"
      ],
      "execution_count": 151,
      "outputs": [
        {
          "output_type": "stream",
          "text": [
            "Epoch 1/2\n",
            "9463/9463 [==============================] - 11s 1ms/step - loss: 3.5342 - acc: 0.0372\n",
            "Epoch 2/2\n",
            "9463/9463 [==============================] - 11s 1ms/step - loss: 3.4402 - acc: 0.0396\n"
          ],
          "name": "stdout"
        },
        {
          "output_type": "execute_result",
          "data": {
            "text/plain": [
              "<keras.callbacks.History at 0x7f5b97db1ef0>"
            ]
          },
          "metadata": {
            "tags": []
          },
          "execution_count": 151
        }
      ]
    },
    {
      "metadata": {
        "id": "L7wufg6yeSLe",
        "colab_type": "code",
        "colab": {}
      },
      "cell_type": "code",
      "source": [
        "def myGenerator():\n",
        "        coll=Collector(\"audio_train\")\n",
        "        while 1:\n",
        "          for i in range(94):\n",
        "              x_train,y_train=coll.next_batch(100)\n",
        "              print(y_train.shape)\n",
        "              yield x_train,y_train"
      ],
      "execution_count": 0,
      "outputs": []
    },
    {
      "metadata": {
        "id": "qIcpIAvM_iXG",
        "colab_type": "code",
        "colab": {
          "base_uri": "https://localhost:8080/",
          "height": 1909
        },
        "outputId": "76c5cb63-0cd6-4ebc-d69c-a64d1eff42b5"
      },
      "cell_type": "code",
      "source": [
        "model.fit_generator(myGenerator(),steps_per_epoch=94, nb_epoch = 1, verbose=2, callbacks=[], validation_data=None, class_weight=None, nb_worker=1)  #my old method to deal big data..doesnt work..has some issues"
      ],
      "execution_count": 0,
      "outputs": [
        {
          "output_type": "stream",
          "text": [
            "/usr/local/lib/python3.6/dist-packages/ipykernel_launcher.py:1: UserWarning: The semantics of the Keras 2 argument `steps_per_epoch` is not the same as the Keras 1 argument `samples_per_epoch`. `steps_per_epoch` is the number of batches to draw from the generator at each epoch. Basically steps_per_epoch = samples_per_epoch/batch_size. Similarly `nb_val_samples`->`validation_steps` and `val_samples`->`steps` arguments have changed. Update your method calls accordingly.\n",
            "  \"\"\"Entry point for launching an IPython kernel.\n",
            "/usr/local/lib/python3.6/dist-packages/ipykernel_launcher.py:1: UserWarning: Update your `fit_generator` call to the Keras 2 API: `fit_generator(<generator..., steps_per_epoch=94, verbose=2, callbacks=[], validation_data=None, class_weight=None, epochs=1, workers=1)`\n",
            "  \"\"\"Entry point for launching an IPython kernel.\n"
          ],
          "name": "stderr"
        },
        {
          "output_type": "stream",
          "text": [
            "WARNING:tensorflow:Variable *= will be deprecated. Use `var.assign(var * other)` if you want assignment to the variable value or `x = x * y` if you want a new python Tensor object.\n",
            "Epoch 1/1{'Acoustic_guitar': 0, 'Applause': 1, 'Bark': 2, 'Bass_drum': 3, 'Burping_or_eructation': 4, 'Bus': 5, 'Cello': 6, 'Chime': 7, 'Clarinet': 8, 'Computer_keyboard': 9, 'Cough': 10, 'Cowbell': 11, 'Double_bass': 12, 'Drawer_open_or_close': 13, 'Electric_piano': 14, 'Fart': 15, 'Finger_snapping': 16, 'Fireworks': 17, 'Flute': 18, 'Glockenspiel': 19, 'Gong': 20, 'Gunshot_or_gunfire': 21, 'Harmonica': 22, 'Hi-hat': 23, 'Keys_jangling': 24, 'Knock': 25, 'Laughter': 26, 'Meow': 27, 'Microwave_oven': 28, 'Oboe': 29, 'Saxophone': 30, 'Scissors': 31, 'Shatter': 32, 'Snare_drum': 33, 'Squeak': 34, 'Tambourine': 35, 'Tearing': 36, 'Telephone': 37, 'Trumpet': 38, 'Violin_or_fiddle': 39, 'Writing': 40}\n",
            "\n",
            "(100, 41)\n",
            "(100, 41)\n",
            "(100, 41)\n",
            "(100, 41)\n",
            "(100, 41)\n",
            "(100, 41)\n",
            "(100, 41)\n",
            "(100, 41)\n",
            "(100, 41)\n",
            "(100, 41)\n",
            "(100, 41)\n",
            "(100, 41)\n",
            "(100, 41)\n",
            "(100, 41)\n",
            "(100, 41)\n",
            "(100, 41)\n",
            "(100, 41)\n",
            "(100, 41)\n",
            "(100, 41)\n",
            "(100, 41)\n",
            "(100, 41)\n",
            "(100, 41)\n",
            "(100, 41)\n",
            "(100, 41)\n",
            "(100, 41)\n",
            "(100, 41)\n",
            "(100, 41)\n",
            "(100, 41)\n",
            "(100, 41)\n",
            "(100, 41)\n",
            "(100, 41)\n",
            "(100, 41)\n",
            "(100, 41)\n",
            "(100, 41)\n",
            "(100, 41)\n",
            "(100, 41)\n",
            "(100, 41)\n",
            "(100, 41)\n",
            "(100, 41)\n",
            "(100, 41)\n",
            "(100, 41)\n",
            "(100, 41)\n",
            "(100, 41)\n",
            "(100, 41)\n",
            "(100, 41)\n",
            "(100, 41)\n",
            "(100, 41)\n",
            "(100, 41)\n",
            "(100, 41)\n",
            "(100, 41)\n",
            "(100, 41)\n",
            "(100, 41)\n",
            "(100, 41)\n",
            "(100, 41)\n",
            "(100, 41)\n",
            "(100, 41)\n",
            "(100, 41)\n",
            "(100, 41)\n",
            "(100, 41)\n",
            "(100, 41)\n",
            "(100, 41)\n",
            "(100, 41)\n",
            "(100, 41)\n",
            "(100, 41)\n",
            "(100, 41)\n",
            "(100, 41)\n",
            "(100, 41)\n",
            "(100, 41)\n",
            "(100, 41)\n",
            "(100, 41)\n",
            "(100, 41)\n",
            "(100, 41)\n",
            "(100, 41)\n",
            "(100, 41)\n",
            "(100, 41)\n",
            "(100, 41)\n",
            "(100, 41)\n",
            "(100, 41)\n",
            "(100, 41)\n",
            "(100, 41)\n",
            "(100, 41)\n",
            "(100, 41)\n",
            "(100, 41)\n",
            "(100, 41)\n",
            "(100, 41)\n",
            "(100, 41)\n",
            "(100, 41)\n",
            "(100, 41)\n",
            "(100, 41)\n",
            "(100, 41)\n",
            "(100, 41)\n",
            "(100, 41)\n",
            "(100, 41)\n",
            "(100, 41)\n",
            " - 616s - loss: 15.5563\n",
            "(73, 41)\n"
          ],
          "name": "stdout"
        },
        {
          "output_type": "execute_result",
          "data": {
            "text/plain": [
              "<keras.callbacks.History at 0x7f9f0c29b7f0>"
            ]
          },
          "metadata": {
            "tags": []
          },
          "execution_count": 21
        }
      ]
    },
    {
      "metadata": {
        "id": "PZMA4CsT07RI",
        "colab_type": "text"
      },
      "cell_type": "markdown",
      "source": [
        "Class to generate the Test Files"
      ]
    },
    {
      "metadata": {
        "id": "eTpqWgcvsocg",
        "colab_type": "code",
        "colab": {}
      },
      "cell_type": "code",
      "source": [
        "#lister=dict()\n",
        "class Collector2:\n",
        "  \n",
        "  def __init__(self,pth,duration):\n",
        "    \n",
        "\n",
        "    self.myPath=pth\n",
        "    self.iter=0\n",
        "    self.liter=0\n",
        "    self.duration=duration\n",
        "    self.input_length=44100*self.duration\n",
        "    self.lister=dict()   \n",
        "  def pad(self,a):\n",
        "    if(a.shape[1]>1400):\n",
        "        return a[:,0:1400]\n",
        "    else:\n",
        "        return np.pad(a,[(0,0),(0,(1400-a.shape[1]))],'constant',constant_values=(0))\n",
        "\n",
        "    \n",
        "  def next_batch(self,it):\n",
        "    onlyfiles = [f for f in sorted(listdir(self.myPath)) if isfile(join(self.myPath,f))]\n",
        "    j=it\n",
        "    max=0\n",
        "    voc=dict()\n",
        "    trainer=[]\n",
        "    k=self.iter\n",
        "    for i in onlyfiles:\n",
        "        if(k>0):\n",
        "          #print(self.iter)\n",
        "          k=k-1\n",
        "          continue\n",
        "        audio_path=self.myPath+\"/\"+i\n",
        "        #print(i)\n",
        "        data,sr=librosa.load(audio_path, sr=44100)\n",
        "        if(data.shape[0]==0):\n",
        "          self.lister[i]='None'\n",
        "          continue\n",
        "        #print(y.shape)\n",
        "        self.lister[i]=''\n",
        "        #data,sr=librosa.load(audio_path, sr=44100)\n",
        "        \n",
        "        # Random offset / Padding\n",
        "        if len(data) > self.input_length:\n",
        "            max_offset = len(data) - self.input_length\n",
        "            #print(max_offset)\n",
        "            offset = np.random.randint(max_offset)\n",
        "            #print(offset)\n",
        "            data = data[offset:(self.input_length+offset)]\n",
        "        else:\n",
        "            if self.input_length > len(data):\n",
        "                max_offset = self.input_length - len(data)\n",
        "                offset = np.random.randint(max_offset)\n",
        "            else:\n",
        "                offset = 0\n",
        "            data = np.pad(data, (offset, self.input_length - len(data) - offset), \"constant\")\n",
        "        #S = librosa.feature.melspectrogram(y, sr=sr, n_mels=128)\n",
        "        #log_S = librosa.power_to_db(S, ref=np.max)\n",
        "        mfcc=librosa.feature.mfcc(y=data, sr=sr, n_mfcc=40)\n",
        "        #S = librosa.feature.melspectrogram(y, sr=sr, n_mels=128)\n",
        "        #log_S = librosa.power_to_db(S, ref=np.max)\n",
        "        \n",
        "        #mfcc        = librosa.feature.mfcc(S=log_S, n_mfcc=13)\n",
        "\n",
        "        # Let's pad on the first and second deltas while we're at it\n",
        "        #delta_mfcc  = librosa.feature.delta(mfcc)\n",
        "        #delta2_mfcc = librosa.feature.delta(mfcc, order=2)\n",
        "        #print(log_S.shape)\n",
        "        trainer.append(mfcc)\n",
        "        j=j-1\n",
        "        self.iter=self.iter+1\n",
        "        if(j==0):\n",
        "            break\n",
        "     \n",
        "    return np.array(trainer),self.lister\n",
        "        #print(log_S.shape)\n",
        "        #if(log_S.shape[1] in voc):\n",
        "         #   voc[log_S.shape[1]]+=1\n",
        "        #else:\n",
        "            #voc[log_S.shape[1]]=1\n",
        "        #if(log_S.shape[1]>max):\n",
        "         #   max=log_S.shape[1]\n",
        "    #print(max)\n",
        "    #print(math.ceil(sum(sorted(voc, key=voc.get, reverse=True)[:10])/2))\n",
        "    #print(math.ceil(sum(sorted(voc, key=voc.get, reverse=True)[:20])/2))\n",
        "    #print(sorted(voc, key=voc.get, reverse=True)[:1])"
      ],
      "execution_count": 0,
      "outputs": []
    },
    {
      "metadata": {
        "id": "P4ZBM90WgGvX",
        "colab_type": "code",
        "colab": {}
      },
      "cell_type": "code",
      "source": [
        "coll2=Collector2(\"audio_test\",2)"
      ],
      "execution_count": 0,
      "outputs": []
    },
    {
      "metadata": {
        "id": "mZ3TMpvjzSOz",
        "colab_type": "code",
        "colab": {}
      },
      "cell_type": "code",
      "source": [
        "X_test1,lister=coll2.next_batch(3000)"
      ],
      "execution_count": 0,
      "outputs": []
    },
    {
      "metadata": {
        "id": "Kld7m1PV6fGZ",
        "colab_type": "code",
        "colab": {}
      },
      "cell_type": "code",
      "source": [
        "X_test2,lister=coll2.next_batch(3000)"
      ],
      "execution_count": 0,
      "outputs": []
    },
    {
      "metadata": {
        "id": "HgrpE97s6ffX",
        "colab_type": "code",
        "colab": {}
      },
      "cell_type": "code",
      "source": [
        "X_test3,lister=coll2.next_batch(3000)"
      ],
      "execution_count": 0,
      "outputs": []
    },
    {
      "metadata": {
        "id": "ayDUszw9AwAj",
        "colab_type": "code",
        "colab": {}
      },
      "cell_type": "code",
      "source": [
        "X_test4,lister=coll2.next_batch(1000)"
      ],
      "execution_count": 0,
      "outputs": []
    },
    {
      "metadata": {
        "id": "_Toch2S3A8Az",
        "colab_type": "code",
        "colab": {
          "base_uri": "https://localhost:8080/",
          "height": 34
        },
        "outputId": "452059dc-06d3-4833-aadd-4246fedd949f"
      },
      "cell_type": "code",
      "source": [
        "X_test4.shape"
      ],
      "execution_count": 220,
      "outputs": [
        {
          "output_type": "execute_result",
          "data": {
            "text/plain": [
              "(400, 40, 173)"
            ]
          },
          "metadata": {
            "tags": []
          },
          "execution_count": 220
        }
      ]
    },
    {
      "metadata": {
        "id": "-BNWkb1s3_Q0",
        "colab_type": "code",
        "colab": {}
      },
      "cell_type": "code",
      "source": [
        "X_testin=np.concatenate((X_test1,X_test2),axis=0)"
      ],
      "execution_count": 0,
      "outputs": []
    },
    {
      "metadata": {
        "id": "-5pV0mjd9PL8",
        "colab_type": "code",
        "colab": {}
      },
      "cell_type": "code",
      "source": [
        "X_testin2=np.concatenate((X_test3,X_test4),axis=0)"
      ],
      "execution_count": 0,
      "outputs": []
    },
    {
      "metadata": {
        "id": "gqsz6bbP853s",
        "colab_type": "code",
        "colab": {}
      },
      "cell_type": "code",
      "source": [
        "X_test=np.concatenate((X_testin,X_testin2),axis=0)"
      ],
      "execution_count": 0,
      "outputs": []
    },
    {
      "metadata": {
        "id": "czu-9u8yBA4B",
        "colab_type": "code",
        "colab": {}
      },
      "cell_type": "code",
      "source": [
        "X_test=np.concatenate((X_test,X_test4),axis=0)"
      ],
      "execution_count": 0,
      "outputs": []
    },
    {
      "metadata": {
        "id": "uZani-8H86Dq",
        "colab_type": "code",
        "colab": {}
      },
      "cell_type": "code",
      "source": [
        "X_test=np.expand_dims(X_test,axis=-1)"
      ],
      "execution_count": 0,
      "outputs": []
    },
    {
      "metadata": {
        "id": "hEb7T8yMg2Zn",
        "colab_type": "code",
        "colab": {
          "base_uri": "https://localhost:8080/",
          "height": 51
        },
        "outputId": "a1f09d97-4bd4-45f5-88b6-8af2d1b7e937"
      },
      "cell_type": "code",
      "source": [
        "print(X_test.shape)\n",
        "print(len(lister))"
      ],
      "execution_count": 350,
      "outputs": [
        {
          "output_type": "stream",
          "text": [
            "(9400, 40, 173, 1)\n",
            "9400\n"
          ],
          "name": "stdout"
        }
      ]
    },
    {
      "metadata": {
        "id": "hBme8-ibwIRs",
        "colab_type": "code",
        "colab": {}
      },
      "cell_type": "code",
      "source": [
        "X_test=np.expand_dims(X_test,axis=-1)"
      ],
      "execution_count": 0,
      "outputs": []
    },
    {
      "metadata": {
        "id": "Fwk_6mHTg4HW",
        "colab_type": "code",
        "colab": {}
      },
      "cell_type": "code",
      "source": [
        "la=model.predict_classes(X_test,batch_size=64)\n",
        "lb=model.predict(X_test,batch_size=64)"
      ],
      "execution_count": 0,
      "outputs": []
    },
    {
      "metadata": {
        "id": "wMuF0QKSwQ2G",
        "colab_type": "code",
        "colab": {
          "base_uri": "https://localhost:8080/",
          "height": 34
        },
        "outputId": "6edf5014-0629-4590-c2f4-530b01bf7e32"
      },
      "cell_type": "code",
      "source": [
        "print(la)"
      ],
      "execution_count": 353,
      "outputs": [
        {
          "output_type": "stream",
          "text": [
            "[35 20 25 ...  6  3 20]\n"
          ],
          "name": "stdout"
        }
      ]
    },
    {
      "metadata": {
        "id": "N31-hLFgh4A3",
        "colab_type": "code",
        "colab": {}
      },
      "cell_type": "code",
      "source": [
        "#(-lb).argsort()[:,:3]\n",
        "tb=(-lb).argsort()[:,:3]\n"
      ],
      "execution_count": 0,
      "outputs": []
    },
    {
      "metadata": {
        "id": "JqflNvi7fFag",
        "colab_type": "code",
        "colab": {}
      },
      "cell_type": "code",
      "source": [
        "file = open('train.csv','r')\n",
        "words2=set()\n",
        "j=0\n",
        "for i in file:\n",
        "  if(j!=0):\n",
        "    #print(i)\n",
        "    ls=i.split(\",\")[1]\n",
        "    words2.add(ls)\n",
        "  j=j+1\n",
        "#print(words)\n",
        "#print(len(words))\n",
        "all_words2=sorted(list(words2))"
      ],
      "execution_count": 0,
      "outputs": []
    },
    {
      "metadata": {
        "id": "qete_vEKdNS9",
        "colab_type": "code",
        "colab": {
          "base_uri": "https://localhost:8080/",
          "height": 122
        },
        "outputId": "2fd3335f-b8c7-4127-b1f2-7241648f8070"
      },
      "cell_type": "code",
      "source": [
        "print(all_words2)\n",
        "print(tb.shape)\n",
        "print(tb[0])\n",
        "print(all_words2[int(tb[0][0])],all_words2[int(tb[0][1])],all_words2[int(tb[0][2])])\n",
        "pred=all_words2[int(tb[0][0])]+\" \"+all_words2[int(tb[0][1])]+\" \"+all_words2[int(tb[0][2])]\n",
        "print(pred)"
      ],
      "execution_count": 356,
      "outputs": [
        {
          "output_type": "stream",
          "text": [
            "['Acoustic_guitar', 'Applause', 'Bark', 'Bass_drum', 'Burping_or_eructation', 'Bus', 'Cello', 'Chime', 'Clarinet', 'Computer_keyboard', 'Cough', 'Cowbell', 'Double_bass', 'Drawer_open_or_close', 'Electric_piano', 'Fart', 'Finger_snapping', 'Fireworks', 'Flute', 'Glockenspiel', 'Gong', 'Gunshot_or_gunfire', 'Harmonica', 'Hi-hat', 'Keys_jangling', 'Knock', 'Laughter', 'Meow', 'Microwave_oven', 'Oboe', 'Saxophone', 'Scissors', 'Shatter', 'Snare_drum', 'Squeak', 'Tambourine', 'Tearing', 'Telephone', 'Trumpet', 'Violin_or_fiddle', 'Writing']\n",
            "(9400, 3)\n",
            "[35 16 32]\n",
            "Tambourine Finger_snapping Shatter\n",
            "Tambourine Finger_snapping Shatter\n"
          ],
          "name": "stdout"
        }
      ]
    },
    {
      "metadata": {
        "id": "4rbZAWjwfqcH",
        "colab_type": "code",
        "colab": {}
      },
      "cell_type": "code",
      "source": [
        "ks=0\n",
        "myData=[]\n",
        "myData.append(['fname','label'])\n",
        "for i in lister:\n",
        "  a=[]\n",
        "  if(lister[i]==''):\n",
        "      pred=all_words2[int(tb[ks][0])]+\" \"+all_words2[int(tb[ks][1])]+\" \"+all_words2[int(tb[ks][2])]\n",
        "      #pred=all_words2[int(tb[ks][0])]\n",
        "      ks=ks+1\n",
        "      a.append(i)\n",
        "      a.append(pred)\n",
        "  else:\n",
        "      a.append(i)\n",
        "      a.append('None')\n",
        "  myData.append(a)\n",
        "    "
      ],
      "execution_count": 0,
      "outputs": []
    },
    {
      "metadata": {
        "id": "4IyLlfGg2YBD",
        "colab_type": "code",
        "colab": {
          "base_uri": "https://localhost:8080/",
          "height": 17034
        },
        "outputId": "8257fd7e-0b0d-4a00-9741-8afd327835f2"
      },
      "cell_type": "code",
      "source": [
        "myData"
      ],
      "execution_count": 358,
      "outputs": [
        {
          "output_type": "execute_result",
          "data": {
            "text/plain": [
              "[['fname', 'label'],\n",
              " ['00063640.wav', 'Tambourine Finger_snapping Shatter'],\n",
              " ['0013a1db.wav', 'Gong Acoustic_guitar Meow'],\n",
              " ['002bb878.wav', 'Knock Bass_drum Gunshot_or_gunfire'],\n",
              " ['002d392d.wav', 'Bass_drum Knock Double_bass'],\n",
              " ['00326aa9.wav', 'Oboe Saxophone Clarinet'],\n",
              " ['0038a046.wav', 'Knock Electric_piano Gong'],\n",
              " ['003995fa.wav', 'Laughter Squeak Chime'],\n",
              " ['005ae625.wav', 'Acoustic_guitar Flute Gong'],\n",
              " ['007759c4.wav', 'Flute Clarinet Cello'],\n",
              " ['008afd93.wav', 'Violin_or_fiddle Saxophone Cello'],\n",
              " ['00a161c0.wav', 'Cello Acoustic_guitar Double_bass'],\n",
              " ['00a7a2f6.wav', 'Clarinet Flute Gong'],\n",
              " ['00ae03f6.wav', 'Squeak Chime Fireworks'],\n",
              " ['00b2404e.wav', 'Cello Violin_or_fiddle Acoustic_guitar'],\n",
              " ['00beb030.wav', 'Clarinet Cello Chime'],\n",
              " ['00c4d5b8.wav', 'Acoustic_guitar Gong Cello'],\n",
              " ['00c92c05.wav', 'Acoustic_guitar Gong Flute'],\n",
              " ['00ccf065.wav', 'Bass_drum Snare_drum Knock'],\n",
              " ['00d0ab77.wav', 'Clarinet Gong Cello'],\n",
              " ['00dffe3a.wav', 'Bass_drum Snare_drum Gunshot_or_gunfire'],\n",
              " ['00e33205.wav', 'Clarinet Flute Saxophone'],\n",
              " ['00e7ed07.wav', 'Violin_or_fiddle Flute Saxophone'],\n",
              " ['00eac343.wav', 'Violin_or_fiddle Gong Cowbell'],\n",
              " ['00f2f692.wav', 'Hi-hat Harmonica Violin_or_fiddle'],\n",
              " ['0102a895.wav', 'Cello Acoustic_guitar Gong'],\n",
              " ['010a0b3a.wav', 'Tambourine Shatter Tearing'],\n",
              " ['010eed01.wav', 'Trumpet Knock Snare_drum'],\n",
              " ['01115622.wav', 'Shatter Snare_drum Hi-hat'],\n",
              " ['01198b7e.wav', 'Clarinet Flute Violin_or_fiddle'],\n",
              " ['01207ce5.wav', 'Hi-hat Tambourine Keys_jangling'],\n",
              " ['0137bfba.wav', 'Cough Fart Laughter'],\n",
              " ['014eb52e.wav', 'Flute Saxophone Clarinet'],\n",
              " ['01608fa3.wav', 'Bass_drum Knock Tearing'],\n",
              " ['0169348e.wav', 'Clarinet Trumpet Cello'],\n",
              " ['016e52da.wav', 'Flute Saxophone Violin_or_fiddle'],\n",
              " ['0183b482.wav', 'Acoustic_guitar Flute Electric_piano'],\n",
              " ['0185de6b.wav', 'Acoustic_guitar Electric_piano Double_bass'],\n",
              " ['01a5a2a3.wav', 'Bark Cough Squeak'],\n",
              " ['01aed32a.wav', 'Flute Acoustic_guitar Clarinet'],\n",
              " ['01afccc5.wav', 'Acoustic_guitar Cello Flute'],\n",
              " ['01b4cdb5.wav', 'Acoustic_guitar Laughter Gong'],\n",
              " ['01b85217.wav', 'Clarinet Flute Saxophone'],\n",
              " ['01bb344f.wav', 'Double_bass Acoustic_guitar Gong'],\n",
              " ['01bede12.wav', 'Trumpet Saxophone Clarinet'],\n",
              " ['01c9d6d3.wav', 'Saxophone Clarinet Flute'],\n",
              " ['01e628cb.wav', 'Electric_piano Clarinet Gong'],\n",
              " ['01e6e112.wav', 'Tearing Writing Fireworks'],\n",
              " ['01e99e2d.wav', 'Violin_or_fiddle Gong Acoustic_guitar'],\n",
              " ['01eccb6e.wav', 'Clarinet Flute Saxophone'],\n",
              " ['01f27f99.wav', 'Squeak Meow Shatter'],\n",
              " ['01f29edb.wav', 'Saxophone Flute Clarinet'],\n",
              " ['01f9883e.wav', 'Cough Laughter Bark'],\n",
              " ['01fd22ba.wav', 'Bass_drum Electric_piano Snare_drum'],\n",
              " ['01fe4a01.wav', 'Tearing Shatter Fart'],\n",
              " ['02107093.wav', 'Electric_piano Knock Gong'],\n",
              " ['02182ebd.wav', 'Hi-hat Finger_snapping Snare_drum'],\n",
              " ['02198549.wav', 'Keys_jangling Writing Scissors'],\n",
              " ['0220d48a.wav', 'Bass_drum Knock Double_bass'],\n",
              " ['02210ee7.wav', 'Saxophone Violin_or_fiddle Flute'],\n",
              " ['022170df.wav', 'Clarinet Flute Saxophone'],\n",
              " ['023431b2.wav', 'Harmonica Hi-hat Trumpet'],\n",
              " ['023e7db3.wav', 'Flute Clarinet Saxophone'],\n",
              " ['023eab1f.wav', 'Double_bass Knock Electric_piano'],\n",
              " ['02482fdc.wav', 'Gong Acoustic_guitar Double_bass'],\n",
              " ['024e45b1.wav', 'Saxophone Cello Violin_or_fiddle'],\n",
              " ['026820e6.wav', 'Tearing Writing Burping_or_eructation'],\n",
              " ['02697329.wav', 'Bass_drum Snare_drum Gunshot_or_gunfire'],\n",
              " ['027a8b14.wav', 'Finger_snapping Tambourine Hi-hat'],\n",
              " ['027dbe3e.wav', 'Bass_drum Double_bass Electric_piano'],\n",
              " ['027f06cc.wav', 'Cough Burping_or_eructation Writing'],\n",
              " ['028278f0.wav', 'Gong Trumpet Oboe'],\n",
              " ['028db587.wav', 'Double_bass Knock Bass_drum'],\n",
              " ['02960f07.wav', 'Writing Tearing Keys_jangling'],\n",
              " ['0298b2c6.wav', 'Flute Clarinet Saxophone'],\n",
              " ['02a0eb3c.wav', 'Laughter Cough Bark'],\n",
              " ['02ad476f.wav', 'Squeak Laughter Chime'],\n",
              " ['02af55f6.wav', 'Acoustic_guitar Gong Electric_piano'],\n",
              " ['02c3af87.wav', 'Trumpet Oboe Saxophone'],\n",
              " ['02c46d0b.wav', 'Double_bass Acoustic_guitar Cello'],\n",
              " ['02c6f112.wav', 'Violin_or_fiddle Gong Electric_piano'],\n",
              " ['02cb4d01.wav', 'Double_bass Knock Bass_drum'],\n",
              " ['02d5dc55.wav', 'Bass_drum Knock Snare_drum'],\n",
              " ['02d9b93c.wav', 'Saxophone Flute Clarinet'],\n",
              " ['02df943b.wav', 'Bass_drum Knock Tearing'],\n",
              " ['02e99b5e.wav', 'Cello Acoustic_guitar Saxophone'],\n",
              " ['02f8d82c.wav', 'Trumpet Harmonica Saxophone'],\n",
              " ['02fb6c5b.wav', 'Knock Bass_drum Fireworks'],\n",
              " ['0300b76b.wav', 'Laughter Bark Cough'],\n",
              " ['0303e3a5.wav', 'Bass_drum Knock Snare_drum'],\n",
              " ['03079bb2.wav', 'Computer_keyboard Writing Squeak'],\n",
              " ['030bacc6.wav', 'Drawer_open_or_close Knock Fireworks'],\n",
              " ['030db750.wav', 'Chime Squeak Keys_jangling'],\n",
              " ['0310089a.wav', 'Oboe Violin_or_fiddle Cowbell'],\n",
              " ['0316ff65.wav', 'Bass_drum Snare_drum Knock'],\n",
              " ['03199dbe.wav', 'Cello Double_bass Acoustic_guitar'],\n",
              " ['031b6d8f.wav', 'Flute Clarinet Saxophone'],\n",
              " ['03319789.wav', 'Acoustic_guitar Trumpet Gong'],\n",
              " ['033a0cbe.wav', 'Bass_drum Knock Drawer_open_or_close'],\n",
              " ['0345130c.wav', 'Trumpet Saxophone Electric_piano'],\n",
              " ['034b1b41.wav', 'Flute Clarinet Violin_or_fiddle'],\n",
              " ['034c1c69.wav', 'Flute Saxophone Violin_or_fiddle'],\n",
              " ['035e420f.wav', 'Hi-hat Snare_drum Tambourine'],\n",
              " ['036c1697.wav', 'Acoustic_guitar Squeak Cough'],\n",
              " ['036f228c.wav', 'Clarinet Flute Saxophone'],\n",
              " ['03786473.wav', 'Cowbell Flute Squeak'],\n",
              " ['037e7b6f.wav', 'Saxophone Flute Violin_or_fiddle'],\n",
              " ['0381efd3.wav', 'Double_bass Cello Gong'],\n",
              " ['038397e9.wav', 'Bass_drum Snare_drum Knock'],\n",
              " ['03858091.wav', 'Bass_drum Snare_drum Gunshot_or_gunfire'],\n",
              " ['03888259.wav', 'Gong Electric_piano Double_bass'],\n",
              " ['0394e0d4.wav', 'Hi-hat Harmonica Squeak'],\n",
              " ['03953467.wav', 'Saxophone Flute Clarinet'],\n",
              " ['039d36e9.wav', 'Cello Violin_or_fiddle Acoustic_guitar'],\n",
              " ['03ab8828.wav', 'Fireworks Trumpet Microwave_oven'],\n",
              " ['03af84e5.wav', 'Oboe Clarinet Gong'],\n",
              " ['03b7faf1.wav', 'Shatter Tearing Writing'],\n",
              " ['03c1c5f4.wav', 'Clarinet Flute Saxophone'],\n",
              " ['03c5bfbb.wav', 'Gunshot_or_gunfire Knock Shatter'],\n",
              " ['03d2bdca.wav', 'Clarinet Gong Cello'],\n",
              " ['03d5a89c.wav', 'Clarinet Flute Gong'],\n",
              " ['03e1e393.wav', 'Burping_or_eructation Cough Laughter'],\n",
              " ['03e2ecd9.wav', 'Cough Glockenspiel Squeak'],\n",
              " ['03e860b2.wav', 'Trumpet Saxophone Flute'],\n",
              " ['03f2e21f.wav', 'Cello Violin_or_fiddle Bus'],\n",
              " ['03f39877.wav', 'Hi-hat Finger_snapping Tambourine'],\n",
              " ['03fafd5b.wav', 'Gong Acoustic_guitar Double_bass'],\n",
              " ['03fccc98.wav', 'Bass_drum Knock Snare_drum'],\n",
              " ['0402129f.wav', 'Fart Snare_drum Burping_or_eructation'],\n",
              " ['040258a9.wav', 'Cello Squeak Acoustic_guitar'],\n",
              " ['041521b0.wav', 'Bass_drum Snare_drum Gunshot_or_gunfire'],\n",
              " ['04154da3.wav', 'Bass_drum Knock Snare_drum'],\n",
              " ['0419676b.wav', 'Clarinet Trumpet Gong'],\n",
              " ['041983cd.wav', 'Acoustic_guitar Gong Cello'],\n",
              " ['04199401.wav', 'Fart Burping_or_eructation Writing'],\n",
              " ['041c68ec.wav', 'Cello Violin_or_fiddle Harmonica'],\n",
              " ['041c7581.wav', 'Cello Clarinet Violin_or_fiddle'],\n",
              " ['041eed83.wav', 'Writing Computer_keyboard Squeak'],\n",
              " ['0422b811.wav', 'Burping_or_eructation Tearing Fart'],\n",
              " ['0448c553.wav', 'Bass_drum Double_bass Knock'],\n",
              " ['0448d513.wav', 'Cello Violin_or_fiddle Acoustic_guitar'],\n",
              " ['044aef8a.wav', 'Writing Tearing Squeak'],\n",
              " ['045931e0.wav', 'Bark Meow Oboe'],\n",
              " ['0459ee65.wav', 'Clarinet Flute Saxophone'],\n",
              " ['045c6122.wav', 'Shatter Gunshot_or_gunfire Knock'],\n",
              " ['045c9ea8.wav', 'Clarinet Flute Saxophone'],\n",
              " ['04605af5.wav', 'Hi-hat Shatter Snare_drum'],\n",
              " ['046250d3.wav', 'Cello Acoustic_guitar Double_bass'],\n",
              " ['046486df.wav', 'Computer_keyboard Squeak Tearing'],\n",
              " ['0468ad68.wav', 'Clarinet Flute Acoustic_guitar'],\n",
              " ['046e86b5.wav', 'Hi-hat Snare_drum Tambourine'],\n",
              " ['047b5857.wav', 'Acoustic_guitar Gong Flute'],\n",
              " ['047bf19c.wav', 'Clarinet Harmonica Cowbell'],\n",
              " ['047e0d21.wav', 'Trumpet Violin_or_fiddle Meow'],\n",
              " ['048470a5.wav', 'Cough Acoustic_guitar Squeak'],\n",
              " ['04a301e9.wav', 'Trumpet Saxophone Hi-hat'],\n",
              " ['04ab46a9.wav', 'Cello Double_bass Clarinet'],\n",
              " ['04ab4e22.wav', 'Finger_snapping Tambourine Hi-hat'],\n",
              " ['04b031df.wav', 'Finger_snapping Hi-hat Knock'],\n",
              " ['04b249bd.wav', 'Writing Drawer_open_or_close Tearing'],\n",
              " ['04b7ef77.wav', 'Flute Saxophone Clarinet'],\n",
              " ['04bdae57.wav', 'Hi-hat Harmonica Squeak'],\n",
              " ['04c2ed9c.wav', 'Clarinet Flute Saxophone'],\n",
              " ['04d15abd.wav', 'Trumpet Saxophone Oboe'],\n",
              " ['04dbef05.wav', 'Cello Double_bass Acoustic_guitar'],\n",
              " ['04dddbf5.wav', 'Bass_drum Snare_drum Knock'],\n",
              " ['04ecda67.wav', 'Bass_drum Knock Snare_drum'],\n",
              " ['04ed8568.wav', 'Bass_drum Knock Cowbell'],\n",
              " ['04f232c6.wav', 'Bass_drum Knock Snare_drum'],\n",
              " ['04f46a27.wav', 'Bass_drum Knock Telephone'],\n",
              " ['04f85a49.wav', 'Acoustic_guitar Cello Saxophone'],\n",
              " ['04fb8280.wav', 'Acoustic_guitar Electric_piano Flute'],\n",
              " ['0509ce2f.wav', 'Hi-hat Harmonica Snare_drum'],\n",
              " ['0520faf4.wav', 'Clarinet Flute Violin_or_fiddle'],\n",
              " ['05296d2a.wav', 'Clarinet Gong Flute'],\n",
              " ['0529d428.wav', 'Snare_drum Bass_drum Drawer_open_or_close'],\n",
              " ['0539bb41.wav', 'Burping_or_eructation Cough Fart'],\n",
              " ['053a5fc6.wav', 'Hi-hat Harmonica Squeak'],\n",
              " ['053b4c56.wav', 'Fart Cough Shatter'],\n",
              " ['053e7bb5.wav', 'Trumpet Finger_snapping Hi-hat'],\n",
              " ['054508f3.wav', 'Bass_drum Snare_drum Knock'],\n",
              " ['0548124b.wav', 'Double_bass Acoustic_guitar Bass_drum'],\n",
              " ['054dbf39.wav', 'Violin_or_fiddle Gong Cello'],\n",
              " ['054eeab6.wav', 'Gong Squeak Fart'],\n",
              " ['05562991.wav', 'Gong Meow Chime'],\n",
              " ['0558af35.wav', 'Squeak Laughter Gong'],\n",
              " ['0568741b.wav', 'Acoustic_guitar Gong Flute'],\n",
              " ['05723b3a.wav', 'Cello Double_bass Acoustic_guitar'],\n",
              " ['057425e6.wav', 'Fart Cough Burping_or_eructation'],\n",
              " ['0576d7ba.wav', 'Fart Cough Laughter'],\n",
              " ['057c2963.wav', 'Clarinet Flute Saxophone'],\n",
              " ['0586f0e0.wav', 'Squeak Laughter Meow'],\n",
              " ['058a0e87.wav', 'Bass_drum Knock Snare_drum'],\n",
              " ['058e63ea.wav', 'Tambourine Finger_snapping Trumpet'],\n",
              " ['0594d8c2.wav', 'Hi-hat Gong Flute'],\n",
              " ['059d5420.wav', 'Saxophone Oboe Flute'],\n",
              " ['059ffef4.wav', 'Oboe Gong Telephone'],\n",
              " ['05a15a14.wav', 'Flute Saxophone Clarinet'],\n",
              " ['05ad10fb.wav', 'Gong Clarinet Trumpet'],\n",
              " ['05ae0583.wav', 'Trumpet Oboe Hi-hat'],\n",
              " ['05c2056b.wav', 'Gong Acoustic_guitar Squeak'],\n",
              " ['05c8453f.wav', 'Fireworks Gunshot_or_gunfire Applause'],\n",
              " ['05cae96f.wav', 'Writing Snare_drum Keys_jangling'],\n",
              " ['05cc88d2.wav', 'Shatter Finger_snapping Glockenspiel'],\n",
              " ['05ccb0ff.wav', 'Acoustic_guitar Squeak Laughter'],\n",
              " ['05f3c709.wav', 'Trumpet Gong Laughter'],\n",
              " ['05f40290.wav', 'Cello Acoustic_guitar Gong'],\n",
              " ['05fc58ee.wav', 'Bass_drum Snare_drum Gunshot_or_gunfire'],\n",
              " ['05fca090.wav', 'Flute Saxophone Violin_or_fiddle'],\n",
              " ['060428bd.wav', 'Acoustic_guitar Electric_piano Gong'],\n",
              " ['0608d8b7.wav', 'Fireworks Gong Bark'],\n",
              " ['06123abf.wav', 'Acoustic_guitar Gong Flute'],\n",
              " ['062c3119.wav', 'Clarinet Saxophone Flute'],\n",
              " ['062f9f91.wav', 'Laughter Gong Fireworks'],\n",
              " ['06308a6b.wav', 'Cello Gong Acoustic_guitar'],\n",
              " ['0630cf5e.wav', 'Electric_piano Acoustic_guitar Gong'],\n",
              " ['0638da1a.wav', 'Snare_drum Bass_drum Hi-hat'],\n",
              " ['063d81f8.wav', 'Clarinet Cello Trumpet'],\n",
              " ['06718b47.wav', 'Trumpet Saxophone Electric_piano'],\n",
              " ['0671a98a.wav', 'Trumpet Oboe Telephone'],\n",
              " ['06775f3c.wav', 'Acoustic_guitar Snare_drum Squeak'],\n",
              " ['0678a571.wav', 'Trumpet Oboe Saxophone'],\n",
              " ['067d6a04.wav', 'Flute Clarinet Saxophone'],\n",
              " ['06827666.wav', 'Clarinet Acoustic_guitar Flute'],\n",
              " ['0682b1f6.wav', 'Hi-hat Shatter Squeak'],\n",
              " ['0689d2f6.wav', 'Bass_drum Knock Microwave_oven'],\n",
              " ['069b1efa.wav', 'Flute Saxophone Clarinet'],\n",
              " ['069b4384.wav', 'Bass_drum Knock Snare_drum'],\n",
              " ['069e4fb3.wav', 'Squeak Fireworks Microwave_oven'],\n",
              " ['06b27161.wav', 'Squeak Chime Laughter'],\n",
              " ['06bb374e.wav', 'Fart Burping_or_eructation Writing'],\n",
              " ['06bd2694.wav', 'Bass_drum Snare_drum Gunshot_or_gunfire'],\n",
              " ['06c33b21.wav', 'Squeak Meow Bus'],\n",
              " ['06c535eb.wav', 'Snare_drum Scissors Telephone'],\n",
              " ['06d4796b.wav', 'Violin_or_fiddle Oboe Cowbell'],\n",
              " ['06dcd7a0.wav', 'Squeak Cough Telephone'],\n",
              " ['06e1d866.wav', 'Fart Gunshot_or_gunfire Snare_drum'],\n",
              " ['06e4a7a3.wav', 'Acoustic_guitar Violin_or_fiddle Cello'],\n",
              " ['06e4c394.wav', 'Violin_or_fiddle Squeak Harmonica'],\n",
              " ['06ee2e39.wav', 'Trumpet Saxophone Harmonica'],\n",
              " ['06faccbf.wav', 'Squeak Writing Burping_or_eructation'],\n",
              " ['06fbe4da.wav', 'Gong Electric_piano Knock'],\n",
              " ['070096e9.wav', 'Clarinet Flute Saxophone'],\n",
              " ['070204c5.wav', 'Finger_snapping Glockenspiel Hi-hat'],\n",
              " ['07038d45.wav', 'Tambourine Telephone Squeak'],\n",
              " ['07063bc9.wav', 'Keys_jangling Writing Scissors'],\n",
              " ['070fea08.wav', 'Gong Trumpet Acoustic_guitar'],\n",
              " ['0716b51d.wav', 'Double_bass Knock Cello'],\n",
              " ['071b2b62.wav', 'Burping_or_eructation Laughter Cough'],\n",
              " ['071e7724.wav', 'Bass_drum Knock Double_bass'],\n",
              " ['071f4c75.wav', 'Violin_or_fiddle Clarinet Flute'],\n",
              " ['0722054b.wav', 'Clarinet Gong Acoustic_guitar'],\n",
              " ['07256457.wav', 'Trumpet Saxophone Flute'],\n",
              " ['0730b080.wav', 'Writing Squeak Bark'],\n",
              " ['0736d78e.wav', 'Fart Burping_or_eructation Gong'],\n",
              " ['073d6755.wav', 'Computer_keyboard Squeak Writing'],\n",
              " ['0745def5.wav', 'Violin_or_fiddle Acoustic_guitar Flute'],\n",
              " ['0751e141.wav', 'Hi-hat Harmonica Squeak'],\n",
              " ['0755629f.wav', 'Knock Double_bass Fireworks'],\n",
              " ['075591e8.wav', 'Bass_drum Double_bass Knock'],\n",
              " ['0760a9e7.wav', 'Writing Computer_keyboard Squeak'],\n",
              " ['076176f4.wav', 'Shatter Finger_snapping Fireworks'],\n",
              " ['0761d26b.wav', 'Applause Laughter Shatter'],\n",
              " ['07642d1b.wav', 'Acoustic_guitar Gong Cello'],\n",
              " ['07682400.wav', 'Oboe Trumpet Meow'],\n",
              " ['076d3b6c.wav', 'Trumpet Oboe Saxophone'],\n",
              " ['0776b083.wav', 'Hi-hat Shatter Trumpet'],\n",
              " ['07776603.wav', 'Trumpet Saxophone Electric_piano'],\n",
              " ['0779cb34.wav', 'Telephone Squeak Computer_keyboard'],\n",
              " ['077a7711.wav', 'Finger_snapping Fart Tearing'],\n",
              " ['0790d4f8.wav', 'Hi-hat Finger_snapping Snare_drum'],\n",
              " ['079367a7.wav', 'Flute Saxophone Trumpet'],\n",
              " ['07954767.wav', 'Bass_drum Snare_drum Gunshot_or_gunfire'],\n",
              " ['07989042.wav', 'Trumpet Saxophone Clarinet'],\n",
              " ['0799369e.wav', 'Flute Clarinet Violin_or_fiddle'],\n",
              " ['079faac8.wav', 'Harmonica Flute Squeak'],\n",
              " ['07a8ddbf.wav', 'Shatter Tambourine Finger_snapping'],\n",
              " ['07ab0dcf.wav', 'Cello Acoustic_guitar Double_bass'],\n",
              " ['07b0fe34.wav', 'Fart Drawer_open_or_close Tearing'],\n",
              " ['07b9c04c.wav', 'Bass_drum Knock Double_bass'],\n",
              " ['07bac4d1.wav', 'Shatter Writing Fart'],\n",
              " ['07c4fd98.wav', 'Acoustic_guitar Flute Gong'],\n",
              " ['07c8463e.wav', 'Laughter Burping_or_eructation Cough'],\n",
              " ['07c95625.wav', 'Burping_or_eructation Squeak Cough'],\n",
              " ['07cf422e.wav', 'Acoustic_guitar Double_bass Gong'],\n",
              " ['07cffb09.wav', 'Flute Clarinet Saxophone'],\n",
              " ['07d5cca9.wav', 'Clarinet Saxophone Flute'],\n",
              " ['07d62787.wav', 'Trumpet Saxophone Violin_or_fiddle'],\n",
              " ['07dcd326.wav', 'Bass_drum Fart Gunshot_or_gunfire'],\n",
              " ['07eef0c0.wav', 'Cello Double_bass Acoustic_guitar'],\n",
              " ['07f06f30.wav', 'Bass_drum Knock Snare_drum'],\n",
              " ['07f1dab7.wav', 'Hi-hat Tambourine Trumpet'],\n",
              " ['07fbde49.wav', 'Trumpet Harmonica Saxophone'],\n",
              " ['0802d9ec.wav', 'Trumpet Saxophone Oboe'],\n",
              " ['080b53cc.wav', 'Acoustic_guitar Gong Cello'],\n",
              " ['081fbfd3.wav', 'Tearing Writing Fart'],\n",
              " ['082cd9fe.wav', 'Acoustic_guitar Cough Burping_or_eructation'],\n",
              " ['083bba3c.wav', 'Clarinet Oboe Flute'],\n",
              " ['0841041b.wav', 'Acoustic_guitar Gong Cello'],\n",
              " ['08426322.wav', 'Tearing Writing Squeak'],\n",
              " ['0844d331.wav', 'Oboe Acoustic_guitar Violin_or_fiddle'],\n",
              " ['08593822.wav', 'Flute Saxophone Clarinet'],\n",
              " ['085a9c5b.wav', 'Cello Violin_or_fiddle Acoustic_guitar'],\n",
              " ['087248e6.wav', 'Clarinet Flute Violin_or_fiddle'],\n",
              " ['087ed746.wav', 'Clarinet Flute Saxophone'],\n",
              " ['08854d8c.wav', 'Bass_drum Snare_drum Gunshot_or_gunfire'],\n",
              " ['088bb565.wav', 'Cello Acoustic_guitar Gong'],\n",
              " ['08904a43.wav', 'Fireworks Tearing Squeak'],\n",
              " ['08911c36.wav', 'Burping_or_eructation Snare_drum Fart'],\n",
              " ['08941c53.wav', 'Finger_snapping Hi-hat Knock'],\n",
              " ['0894d11f.wav', 'Snare_drum Hi-hat Finger_snapping'],\n",
              " ['089f1097.wav', 'Trumpet Knock Gunshot_or_gunfire'],\n",
              " ['089f44b1.wav', 'Fart Burping_or_eructation Writing'],\n",
              " ['08a82608.wav', 'Violin_or_fiddle Harmonica Gong'],\n",
              " ['08be795d.wav', 'Shatter Squeak Tearing'],\n",
              " ['08c9a7f7.wav', 'Snare_drum Hi-hat Bass_drum'],\n",
              " ['08d23bb8.wav', 'Finger_snapping Tambourine Knock'],\n",
              " ['08d9501a.wav', 'Snare_drum Cough Fart'],\n",
              " ['08ddd56e.wav', 'Tearing Fart Writing'],\n",
              " ['08e27974.wav', 'Fireworks Gunshot_or_gunfire Shatter'],\n",
              " ['08ecc0a1.wav', 'Bass_drum Gunshot_or_gunfire Bark'],\n",
              " ['08f4b16b.wav', 'Fart Burping_or_eructation Squeak'],\n",
              " ['08fcf830.wav', 'Flute Clarinet Oboe'],\n",
              " ['0921f1f2.wav', 'Acoustic_guitar Double_bass Electric_piano'],\n",
              " ['092a73e5.wav', 'Bass_drum Snare_drum Violin_or_fiddle'],\n",
              " ['092d89a0.wav', 'Cello Acoustic_guitar Double_bass'],\n",
              " ['093963d5.wav', 'Cello Saxophone Violin_or_fiddle'],\n",
              " ['0943fc2d.wav', 'Bass_drum Snare_drum Knock'],\n",
              " ['09481a4c.wav', 'Bass_drum Knock Double_bass'],\n",
              " ['095428e8.wav', 'Violin_or_fiddle Cello Acoustic_guitar'],\n",
              " ['09553ca1.wav', 'Bass_drum Knock Double_bass'],\n",
              " ['095dd27c.wav', 'Fart Tearing Computer_keyboard'],\n",
              " ['0967cebd.wav', 'Clarinet Flute Saxophone'],\n",
              " ['0969d9d1.wav', 'Gong Cello Acoustic_guitar'],\n",
              " ['096c3969.wav', 'Trumpet Saxophone Harmonica'],\n",
              " ['096fd039.wav', 'Fart Burping_or_eructation Tearing'],\n",
              " ['0976741c.wav', 'Acoustic_guitar Violin_or_fiddle Gong'],\n",
              " ['097cdef5.wav', 'Violin_or_fiddle Flute Trumpet'],\n",
              " ['0984ea36.wav', 'Double_bass Acoustic_guitar Gong'],\n",
              " ['0995f876.wav', 'Saxophone Trumpet Flute'],\n",
              " ['09983766.wav', 'Keys_jangling Shatter Tambourine'],\n",
              " ['09a14a8e.wav', 'Tearing Tambourine Squeak'],\n",
              " ['09b3e21c.wav', 'Clarinet Cello Acoustic_guitar'],\n",
              " ['09c7044c.wav', 'Bass_drum Snare_drum Knock'],\n",
              " ['09c71587.wav', 'Saxophone Fireworks Violin_or_fiddle'],\n",
              " ['09c8f697.wav', 'Bass_drum Knock Microwave_oven'],\n",
              " ['09c9b50b.wav', 'Saxophone Violin_or_fiddle Cello'],\n",
              " ['09cba9de.wav', 'Cello Clarinet Flute'],\n",
              " ['09d0535a.wav', 'Snare_drum Writing Hi-hat'],\n",
              " ['09d2d1c0.wav', 'Saxophone Trumpet Electric_piano'],\n",
              " ['09e5a0ee.wav', 'Double_bass Bass_drum Knock'],\n",
              " ['09e83f2a.wav', 'Acoustic_guitar Trumpet Gong'],\n",
              " ['09eb9ddb.wav', 'Cello Clarinet Double_bass'],\n",
              " ['09ec3afd.wav', 'Bass_drum Knock Snare_drum'],\n",
              " ['09f02a4a.wav', 'Drawer_open_or_close Squeak Fireworks'],\n",
              " ['09f55e64.wav', 'Clarinet Flute Saxophone'],\n",
              " ['0a001dfe.wav', 'Gong Fireworks Laughter'],\n",
              " ['0a00b1a8.wav', 'Flute Saxophone Clarinet'],\n",
              " ['0a0b26cc.wav', 'Bass_drum Knock Flute'],\n",
              " ['0a23fde2.wav', 'Microwave_oven Writing Finger_snapping'],\n",
              " ['0a3d6e55.wav', 'Knock Squeak Writing'],\n",
              " ['0a429107.wav', 'Hi-hat Scissors Tambourine'],\n",
              " ['0a5cbf90.wav', 'Gong Acoustic_guitar Glockenspiel'],\n",
              " ['0a5f818e.wav', 'Bark Meow Microwave_oven'],\n",
              " ['0a6219e5.wav', 'Cello Double_bass Fireworks'],\n",
              " ['0a67826b.wav', 'Bass_drum Knock Double_bass'],\n",
              " ['0a695221.wav', 'Fireworks Shatter Squeak'],\n",
              " ['0a6ecade.wav', 'Bass_drum Snare_drum Knock'],\n",
              " ['0a71e42d.wav', 'Bass_drum Snare_drum Gunshot_or_gunfire'],\n",
              " ['0a79ddf7.wav', 'Gong Harmonica Acoustic_guitar'],\n",
              " ['0a7c7060.wav', 'Shatter Tearing Squeak'],\n",
              " ['0a7fbd54.wav', 'Hi-hat Trumpet Snare_drum'],\n",
              " ['0a7ff75b.wav', 'Drawer_open_or_close Knock Fart'],\n",
              " ['0a848902.wav', 'Squeak Flute Violin_or_fiddle'],\n",
              " ['0a8b7299.wav', 'Glockenspiel Electric_piano Writing'],\n",
              " ['0a8d849e.wav', 'Bass_drum Snare_drum Gunshot_or_gunfire'],\n",
              " ['0a979caf.wav', 'Clarinet Flute Saxophone'],\n",
              " ['0aaa4d2f.wav', 'Bass_drum Knock Bark'],\n",
              " ['0aab4d0f.wav', 'Trumpet Saxophone Harmonica'],\n",
              " ['0ab56675.wav', 'Cough Laughter Fart'],\n",
              " ['0ab99db4.wav', 'Flute Saxophone Violin_or_fiddle'],\n",
              " ['0acc6947.wav', 'Gong Cowbell Electric_piano'],\n",
              " ['0ace560e.wav', 'Clarinet Flute Gong'],\n",
              " ['0ace703f.wav', 'Acoustic_guitar Flute Gong'],\n",
              " ['0ad916a0.wav', 'Double_bass Cello Gong'],\n",
              " ['0adf81d5.wav', 'Bark Snare_drum Flute'],\n",
              " ['0ae1945c.wav', 'Acoustic_guitar Gong Cello'],\n",
              " ['0af843ea.wav', 'Glockenspiel Shatter Finger_snapping'],\n",
              " ['0b0132c8.wav', 'Hi-hat Shatter Tearing'],\n",
              " ['0b0427e2.wav', 'None'],\n",
              " ['0b07dc21.wav', 'Flute Clarinet Bark'],\n",
              " ['0b0df9a0.wav', 'Fart Telephone Computer_keyboard'],\n",
              " ['0b157a67.wav', 'Bass_drum Snare_drum Knock'],\n",
              " ['0b232eb1.wav', 'Bass_drum Double_bass Knock'],\n",
              " ['0b244358.wav', 'Trumpet Saxophone Electric_piano'],\n",
              " ['0b273087.wav', 'Clarinet Saxophone Flute'],\n",
              " ['0b278db1.wav', 'Computer_keyboard Squeak Tearing'],\n",
              " ['0b2f18fa.wav', 'Squeak Gong Cello'],\n",
              " ['0b321436.wav', 'Bass_drum Snare_drum Gunshot_or_gunfire'],\n",
              " ['0b32ee85.wav', 'Violin_or_fiddle Cello Double_bass'],\n",
              " ['0b38f744.wav', 'Hi-hat Harmonica Trumpet'],\n",
              " ['0b3c86c9.wav', 'Tearing Computer_keyboard Fireworks'],\n",
              " ['0b430780.wav', 'Gunshot_or_gunfire Knock Fireworks'],\n",
              " ['0b495758.wav', 'Fart Shatter Tearing'],\n",
              " ['0b4bb93c.wav', 'Tambourine Finger_snapping Trumpet'],\n",
              " ['0b50d4c8.wav', 'Laughter Cough Acoustic_guitar'],\n",
              " ['0b58b074.wav', 'Shatter Fireworks Violin_or_fiddle'],\n",
              " ['0b58c7e9.wav', 'Cello Acoustic_guitar Clarinet'],\n",
              " ['0b5fb43f.wav', 'Snare_drum Squeak Fart'],\n",
              " ['0b62b09f.wav', 'Clarinet Flute Saxophone'],\n",
              " ['0b752229.wav', 'Telephone Burping_or_eructation Cough'],\n",
              " ['0b763e4f.wav', 'Trumpet Saxophone Snare_drum'],\n",
              " ['0b79fdea.wav', 'Tambourine Shatter Finger_snapping'],\n",
              " ['0b7b694c.wav', 'Bass_drum Double_bass Violin_or_fiddle'],\n",
              " ['0b8844bd.wav', 'Acoustic_guitar Gong Double_bass'],\n",
              " ['0b8b79ad.wav', 'Burping_or_eructation Bark Laughter'],\n",
              " ['0b8dfa34.wav', 'Clarinet Flute Oboe'],\n",
              " ['0b9415cd.wav', 'Clarinet Harmonica Violin_or_fiddle'],\n",
              " ['0ba34dec.wav', 'Clarinet Flute Trumpet'],\n",
              " ['0baa37ed.wav', 'Keys_jangling Burping_or_eructation Tambourine'],\n",
              " ['0bb6a21d.wav', 'Double_bass Cello Snare_drum'],\n",
              " ['0bb807c0.wav', 'Clarinet Flute Saxophone'],\n",
              " ['0bc52ede.wav', 'Acoustic_guitar Flute Gong'],\n",
              " ['0bc8ad78.wav', 'Finger_snapping Tambourine Trumpet'],\n",
              " ['0bc938fb.wav', 'Double_bass Cello Gong'],\n",
              " ['0bd5adf9.wav', 'Telephone Gong Squeak'],\n",
              " ['0bdc064a.wav', 'Flute Harmonica Violin_or_fiddle'],\n",
              " ['0be5aa79.wav', 'Bass_drum Snare_drum Trumpet'],\n",
              " ['0be7620d.wav', 'Bass_drum Knock Cowbell'],\n",
              " ['0beb8325.wav', 'Violin_or_fiddle Acoustic_guitar Flute'],\n",
              " ['0bec9842.wav', 'Clarinet Flute Saxophone'],\n",
              " ['0befc5cb.wav', 'Laughter Burping_or_eructation Squeak'],\n",
              " ['0bf9fbd3.wav', 'Snare_drum Bass_drum Gunshot_or_gunfire'],\n",
              " ['0c13feb9.wav', 'Acoustic_guitar Saxophone Violin_or_fiddle'],\n",
              " ['0c1bb3e9.wav', 'Flute Violin_or_fiddle Harmonica'],\n",
              " ['0c1fbece.wav', 'Trumpet Saxophone Electric_piano'],\n",
              " ['0c27bc2d.wav', 'Acoustic_guitar Cough Squeak'],\n",
              " ['0c31ca4c.wav', 'Flute Clarinet Saxophone'],\n",
              " ['0c3b5861.wav', 'Clarinet Flute Saxophone'],\n",
              " ['0c3dfac0.wav', 'Clarinet Gong Cello'],\n",
              " ['0c40bbb0.wav', 'Bass_drum Knock Snare_drum'],\n",
              " ['0c4de54a.wav', 'Violin_or_fiddle Clarinet Flute'],\n",
              " ['0c561099.wav', 'Trumpet Saxophone Electric_piano'],\n",
              " ['0c58f71a.wav', 'Clarinet Flute Saxophone'],\n",
              " ['0c654cc0.wav', 'Trumpet Harmonica Hi-hat'],\n",
              " ['0c6ccd3a.wav', 'Clarinet Trumpet Flute'],\n",
              " ['0c7311f7.wav', 'Gong Oboe Violin_or_fiddle'],\n",
              " ['0c736a0f.wav', 'Trumpet Saxophone Flute'],\n",
              " ['0c7a124d.wav', 'Clarinet Cello Flute'],\n",
              " ['0c7a8b1b.wav', 'Flute Clarinet Saxophone'],\n",
              " ['0c7c51fa.wav', 'Trumpet Acoustic_guitar Drawer_open_or_close'],\n",
              " ['0c8071a4.wav', 'Bass_drum Knock Snare_drum'],\n",
              " ['0c80cb97.wav', 'Trumpet Gong Saxophone'],\n",
              " ['0c80f6dc.wav', 'Bass_drum Snare_drum Gunshot_or_gunfire'],\n",
              " ['0c91a6b2.wav', 'Cough Squeak Laughter'],\n",
              " ['0c9250b8.wav', 'Bass_drum Knock Snare_drum'],\n",
              " ['0ca5bba6.wav', 'Hi-hat Snare_drum Harmonica'],\n",
              " ['0cb0d029.wav', 'Burping_or_eructation Cough Fart'],\n",
              " ['0cb48b8e.wav', 'Flute Harmonica Gong'],\n",
              " ['0cb5b4a8.wav', 'Bass_drum Knock Double_bass'],\n",
              " ['0cbe7e42.wav', 'Flute Chime Clarinet'],\n",
              " ['0cc0af58.wav', 'Gong Double_bass Knock'],\n",
              " ['0cd0ec27.wav', 'Bass_drum Knock Gunshot_or_gunfire'],\n",
              " ['0cd0f2ef.wav', 'Burping_or_eructation Laughter Cough'],\n",
              " ['0ce09e4a.wav', 'Flute Clarinet Saxophone'],\n",
              " ['0ce127f9.wav', 'Snare_drum Shatter Gunshot_or_gunfire'],\n",
              " ['0ceaab13.wav', 'Bass_drum Snare_drum Knock'],\n",
              " ['0ceb2140.wav', 'Cough Laughter Bark'],\n",
              " ['0cec29e8.wav', 'Harmonica Flute Violin_or_fiddle'],\n",
              " ['0cefa487.wav', 'Acoustic_guitar Double_bass Cello'],\n",
              " ['0cf2bcda.wav', 'Acoustic_guitar Double_bass Cello'],\n",
              " ['0cf319fa.wav', 'Saxophone Clarinet Trumpet'],\n",
              " ['0cf34718.wav', 'Flute Clarinet Acoustic_guitar'],\n",
              " ['0cf34f6e.wav', 'Fart Gunshot_or_gunfire Shatter'],\n",
              " ['0d056139.wav', 'Snare_drum Violin_or_fiddle Tearing'],\n",
              " ['0d1bf5b4.wav', 'Fart Squeak Trumpet'],\n",
              " ['0d20e8f7.wav', 'Bass_drum Knock Computer_keyboard'],\n",
              " ['0d23dd3a.wav', 'Violin_or_fiddle Snare_drum Cowbell'],\n",
              " ['0d242640.wav', 'Clarinet Gong Acoustic_guitar'],\n",
              " ['0d2d13b7.wav', 'Hi-hat Harmonica Squeak'],\n",
              " ['0d34cc5a.wav', 'Snare_drum Hi-hat Finger_snapping'],\n",
              " ['0d415918.wav', 'Shatter Gunshot_or_gunfire Knock'],\n",
              " ['0d449433.wav', 'Bass_drum Knock Double_bass'],\n",
              " ['0d4ca47e.wav', 'Violin_or_fiddle Hi-hat Snare_drum'],\n",
              " ['0d5bb142.wav', 'Trumpet Saxophone Clarinet'],\n",
              " ['0d6e2584.wav', 'Squeak Chime Computer_keyboard'],\n",
              " ['0d7549a4.wav', 'Oboe Clarinet Violin_or_fiddle'],\n",
              " ['0d7f7f76.wav', 'Gong Acoustic_guitar Cello'],\n",
              " ['0d89b6a4.wav', 'Clarinet Cello Gong'],\n",
              " ['0d8d0cbd.wav', 'Tearing Writing Fart'],\n",
              " ['0d90d498.wav', 'Acoustic_guitar Gong Electric_piano'],\n",
              " ['0d950fc6.wav', 'Bass_drum Snare_drum Knock'],\n",
              " ['0d976b22.wav', 'Bass_drum Gunshot_or_gunfire Snare_drum'],\n",
              " ['0d98574f.wav', 'Cello Violin_or_fiddle Harmonica'],\n",
              " ['0d99cfde.wav', 'Trumpet Harmonica Hi-hat'],\n",
              " ['0d9de265.wav', 'Clarinet Saxophone Trumpet'],\n",
              " ['0da2acf4.wav', 'Fart Gunshot_or_gunfire Applause'],\n",
              " ['0da592f2.wav', 'Clarinet Flute Saxophone'],\n",
              " ['0daa7a68.wav', 'Bass_drum Snare_drum Knock'],\n",
              " ['0db0fb36.wav', 'Drawer_open_or_close Computer_keyboard Squeak'],\n",
              " ['0db21ee8.wav', 'Clarinet Flute Oboe'],\n",
              " ['0db35f79.wav', 'Bass_drum Knock Snare_drum'],\n",
              " ['0db65bf4.wav', 'Clarinet Oboe Saxophone'],\n",
              " ['0db6ac5f.wav', 'Harmonica Hi-hat Trumpet'],\n",
              " ['0dbb37b3.wav', 'Laughter Cough Burping_or_eructation'],\n",
              " ['0dc193fe.wav', 'Shatter Tearing Writing'],\n",
              " ['0dc7fd72.wav', 'Bass_drum Knock Tearing'],\n",
              " ['0dd0e034.wav', 'Cello Violin_or_fiddle Clarinet'],\n",
              " ['0dd68380.wav', 'Snare_drum Acoustic_guitar Cowbell'],\n",
              " ['0de4b9f0.wav', 'Gong Cello Double_bass'],\n",
              " ['0def8cc7.wav', 'Acoustic_guitar Gong Cello'],\n",
              " ['0df38dfd.wav', 'Cello Gong Double_bass'],\n",
              " ['0e06ba41.wav', 'Burping_or_eructation Fart Cough'],\n",
              " ['0e12c15c.wav', 'Glockenspiel Shatter Finger_snapping'],\n",
              " ['0e1bd033.wav', 'Squeak Fireworks Drawer_open_or_close'],\n",
              " ['0e23a6f4.wav', 'Tambourine Gong Writing'],\n",
              " ['0e26ccc9.wav', 'Cough Computer_keyboard Laughter'],\n",
              " ['0e2d428f.wav', 'Clarinet Saxophone Flute'],\n",
              " ['0e2ff60a.wav', 'Clarinet Flute Cello'],\n",
              " ['0e373704.wav', 'Cowbell Oboe Gong'],\n",
              " ['0e398b30.wav', 'Clarinet Oboe Flute'],\n",
              " ['0e3b99ce.wav', 'Fart Snare_drum Burping_or_eructation'],\n",
              " ['0e3cdc5d.wav', 'Double_bass Cello Acoustic_guitar'],\n",
              " ['0e3d8062.wav', 'Fart Writing Scissors'],\n",
              " ['0e45be94.wav', 'Double_bass Acoustic_guitar Cello'],\n",
              " ['0e468de3.wav', 'Bass_drum Knock Finger_snapping'],\n",
              " ['0e507ea4.wav', 'Flute Saxophone Violin_or_fiddle'],\n",
              " ['0e5184a9.wav', 'Electric_piano Gong Acoustic_guitar'],\n",
              " ['0e551b02.wav', 'Acoustic_guitar Gong Electric_piano'],\n",
              " ['0e596194.wav', 'Clarinet Flute Saxophone'],\n",
              " ['0e596a0b.wav', 'Bass_drum Fireworks Knock'],\n",
              " ['0e5a2f7e.wav', 'Bass_drum Snare_drum Cowbell'],\n",
              " ['0e5e9be8.wav', 'Double_bass Cello Snare_drum'],\n",
              " ['0e666b44.wav', 'Clarinet Cello Acoustic_guitar'],\n",
              " ['0e6a2b2e.wav', 'Flute Bass_drum Violin_or_fiddle'],\n",
              " ['0e70bdaa.wav', 'Flute Clarinet Saxophone'],\n",
              " ['0e722a03.wav', 'Bass_drum Knock Double_bass'],\n",
              " ['0e7aea38.wav', 'Gong Electric_piano Bark'],\n",
              " ['0e7d6e2d.wav', 'Cello Saxophone Clarinet'],\n",
              " ['0e7e36b2.wav', 'Bass_drum Snare_drum Knock'],\n",
              " ['0e889160.wav', 'Bass_drum Snare_drum Gunshot_or_gunfire'],\n",
              " ['0e8ccc81.wav', 'Cello Violin_or_fiddle Acoustic_guitar'],\n",
              " ['0e95fbb5.wav', 'Cello Violin_or_fiddle Acoustic_guitar'],\n",
              " ['0e9c6c50.wav', 'Acoustic_guitar Laughter Cough'],\n",
              " ['0ea36a9f.wav', 'Clarinet Flute Saxophone'],\n",
              " ['0ea9839a.wav', 'Bass_drum Knock Cowbell'],\n",
              " ['0eb8b04e.wav', 'Snare_drum Bass_drum Gunshot_or_gunfire'],\n",
              " ['0ec5f052.wav', 'Trumpet Oboe Saxophone'],\n",
              " ['0ed387f3.wav', 'Tearing Squeak Writing'],\n",
              " ['0edbfc63.wav', 'Flute Clarinet Saxophone'],\n",
              " ['0eead3a5.wav', 'Knock Bass_drum Fireworks'],\n",
              " ['0ef36ea1.wav', 'Harmonica Telephone Violin_or_fiddle'],\n",
              " ['0f0b1ca2.wav', 'Double_bass Cello Gong'],\n",
              " ['0f0d26ff.wav', 'Flute Clarinet Violin_or_fiddle'],\n",
              " ['0f0e6fcb.wav', 'Bass_drum Snare_drum Tearing'],\n",
              " ['0f186af1.wav', 'Snare_drum Bass_drum Acoustic_guitar'],\n",
              " ['0f1b4552.wav', 'Bark Telephone Meow'],\n",
              " ['0f3786e3.wav', 'Bus Fireworks Squeak'],\n",
              " ['0f3ac4c8.wav', 'Computer_keyboard Writing Tearing'],\n",
              " ['0f45b11a.wav', 'Double_bass Bass_drum Knock'],\n",
              " ['0f4db823.wav', 'Tambourine Shatter Hi-hat'],\n",
              " ['0f4edd6e.wav', 'Tearing Writing Keys_jangling'],\n",
              " ['0f5182eb.wav', 'Squeak Bark Fireworks'],\n",
              " ['0f53de64.wav', 'Hi-hat Shatter Knock'],\n",
              " ['0f54592d.wav', 'Gong Burping_or_eructation Shatter'],\n",
              " ['0f545c0a.wav', 'Flute Clarinet Saxophone'],\n",
              " ['0f5d35da.wav', 'Bass_drum Double_bass Knock'],\n",
              " ['0f6b702d.wav', 'Violin_or_fiddle Acoustic_guitar Cowbell'],\n",
              " ['0f6bd0ae.wav', 'Hi-hat Trumpet Snare_drum'],\n",
              " ['0f6dd6d8.wav', 'Violin_or_fiddle Flute Saxophone'],\n",
              " ['0f7080a5.wav', 'Cough Fart Laughter'],\n",
              " ['0f712cb7.wav', 'Oboe Acoustic_guitar Violin_or_fiddle'],\n",
              " ['0f7784da.wav', 'Tambourine Hi-hat Trumpet'],\n",
              " ['0f784c9c.wav', 'Tearing Shatter Fart'],\n",
              " ['0f826ebb.wav', 'Acoustic_guitar Burping_or_eructation Gong'],\n",
              " ['0f9ff067.wav', 'Bass_drum Snare_drum Gunshot_or_gunfire'],\n",
              " ['0fac704f.wav', 'Squeak Writing Fart'],\n",
              " ['0fae3120.wav', 'Clarinet Gong Flute'],\n",
              " ['0fba4394.wav', 'Cello Clarinet Double_bass'],\n",
              " ['0fc2e748.wav', 'Trumpet Saxophone Electric_piano'],\n",
              " ['0fc6872b.wav', 'Snare_drum Saxophone Acoustic_guitar'],\n",
              " ['0fcc66b7.wav', 'Clarinet Cello Saxophone'],\n",
              " ['0fcd2371.wav', 'Applause Laughter Squeak'],\n",
              " ['0fd0464f.wav', 'Drawer_open_or_close Cello Finger_snapping'],\n",
              " ['0fd07de6.wav', 'Bass_drum Knock Electric_piano'],\n",
              " ['0fd76662.wav', 'Flute Clarinet Trumpet'],\n",
              " ['0fe4be7c.wav', 'Gunshot_or_gunfire Drawer_open_or_close Fireworks'],\n",
              " ['0fe4e425.wav', 'Oboe Saxophone Flute'],\n",
              " ['0feb250e.wav', 'Bass_drum Knock Electric_piano'],\n",
              " ['10010bbd.wav', 'Applause Laughter Bark'],\n",
              " ['10039900.wav', 'Flute Saxophone Clarinet'],\n",
              " ['10098579.wav', 'Cello Clarinet Saxophone'],\n",
              " ['100c5246.wav', 'Squeak Telephone Trumpet'],\n",
              " ['10109319.wav', 'Laughter Cough Bark'],\n",
              " ['10121a69.wav', 'Hi-hat Tambourine Shatter'],\n",
              " ['10145c52.wav', 'Chime Keys_jangling Squeak'],\n",
              " ['10145c60.wav', 'Bass_drum Snare_drum Knock'],\n",
              " ['101c0bd4.wav', 'Trumpet Cello Gong'],\n",
              " ['1023611b.wav', 'Knock Burping_or_eructation Bass_drum'],\n",
              " ['10252b9e.wav', 'Flute Clarinet Saxophone'],\n",
              " ['103bac20.wav', 'Bass_drum Knock Double_bass'],\n",
              " ['104489a6.wav', 'Trumpet Flute Clarinet'],\n",
              " ['10480421.wav', 'Bass_drum Knock Double_bass'],\n",
              " ['1048ea58.wav', 'Bass_drum Tearing Gunshot_or_gunfire'],\n",
              " ['1050c329.wav', 'Snare_drum Hi-hat Tambourine'],\n",
              " ['1054db8c.wav', 'Flute Saxophone Trumpet'],\n",
              " ['1057f6f9.wav', 'Cough Laughter Bark'],\n",
              " ['106c682c.wav', 'Bass_drum Knock Gunshot_or_gunfire'],\n",
              " ['1071703e.wav', 'Cello Violin_or_fiddle Flute'],\n",
              " ['10729c8a.wav', 'Saxophone Flute Trumpet'],\n",
              " ['1079e2d1.wav', 'Snare_drum Bass_drum Gunshot_or_gunfire'],\n",
              " ['107e3cbe.wav', 'Gong Cello Acoustic_guitar'],\n",
              " ['108b5bef.wav', 'Shatter Laughter Cough'],\n",
              " ['109321f2.wav', 'Double_bass Cello Acoustic_guitar'],\n",
              " ['10949041.wav', 'Gong Cello Acoustic_guitar'],\n",
              " ['1099a7a8.wav', 'Trumpet Cough Laughter'],\n",
              " ['10d3b2ec.wav', 'Clarinet Oboe Saxophone'],\n",
              " ['10d5c4ce.wav', 'Trumpet Hi-hat Harmonica'],\n",
              " ['10d73c58.wav', 'Clarinet Saxophone Flute'],\n",
              " ['10d9053b.wav', 'Acoustic_guitar Snare_drum Squeak'],\n",
              " ['10d9265f.wav', 'Double_bass Cello Gong'],\n",
              " ['10dba05f.wav', 'Gong Double_bass Acoustic_guitar'],\n",
              " ['10dddec0.wav', 'Burping_or_eructation Laughter Cough'],\n",
              " ['10e46486.wav', 'Violin_or_fiddle Gong Shatter'],\n",
              " ['10f6ad27.wav', 'Flute Clarinet Violin_or_fiddle'],\n",
              " ['11041746.wav', 'Knock Bass_drum Trumpet'],\n",
              " ['111dd875.wav', 'Cello Double_bass Acoustic_guitar'],\n",
              " ['112283e8.wav', 'Trumpet Hi-hat Finger_snapping'],\n",
              " ['1122c26f.wav', 'Clarinet Flute Saxophone'],\n",
              " ['112da824.wav', 'Bass_drum Knock Double_bass'],\n",
              " ['11338182.wav', 'Snare_drum Hi-hat Bass_drum'],\n",
              " ['113b0e32.wav', 'Acoustic_guitar Gong Electric_piano'],\n",
              " ['113d2ca9.wav', 'Hi-hat Snare_drum Shatter'],\n",
              " ['1141793d.wav', 'Bass_drum Snare_drum Gunshot_or_gunfire'],\n",
              " ['11442d0e.wav', 'Cello Gong Acoustic_guitar'],\n",
              " ['1146e063.wav', 'Cello Acoustic_guitar Harmonica'],\n",
              " ['11544687.wav', 'Bass_drum Knock Double_bass'],\n",
              " ['115a258b.wav', 'Saxophone Flute Clarinet'],\n",
              " ['115aa41f.wav', 'Hi-hat Snare_drum Tambourine'],\n",
              " ['116b77d5.wav', 'Fart Bark Burping_or_eructation'],\n",
              " ['11704d14.wav', 'Shatter Tearing Writing'],\n",
              " ['11770392.wav', 'Hi-hat Snare_drum Shatter'],\n",
              " ['117dcac8.wav', 'Fart Trumpet Burping_or_eructation'],\n",
              " ['11844b37.wav', 'Clarinet Flute Saxophone'],\n",
              " ['11867b61.wav', 'Flute Clarinet Violin_or_fiddle'],\n",
              " ['1189cf83.wav', 'Gunshot_or_gunfire Bass_drum Knock'],\n",
              " ['118f1763.wav', 'Clarinet Flute Saxophone'],\n",
              " ['11986117.wav', 'Bass_drum Snare_drum Gunshot_or_gunfire'],\n",
              " ['119a3278.wav', 'Applause Squeak Fireworks'],\n",
              " ['11a10ce8.wav', 'Cello Violin_or_fiddle Saxophone'],\n",
              " ['11a4f814.wav', 'Bass_drum Microwave_oven Knock'],\n",
              " ['11ae787e.wav', 'Squeak Writing Fireworks'],\n",
              " ['11cc6d11.wav', 'Trumpet Saxophone Electric_piano'],\n",
              " ['11e6a1ec.wav', 'Bass_drum Snare_drum Gunshot_or_gunfire'],\n",
              " ['11e80486.wav', 'Acoustic_guitar Snare_drum Cello'],\n",
              " ['11e95378.wav', 'Bass_drum Snare_drum Knock'],\n",
              " ['11edc852.wav', 'Cello Acoustic_guitar Double_bass'],\n",
              " ['11f661bd.wav', 'Hi-hat Shatter Keys_jangling'],\n",
              " ['11f6b674.wav', 'Bass_drum Snare_drum Knock'],\n",
              " ['11fa11a0.wav', 'Saxophone Trumpet Flute'],\n",
              " ['12034b1a.wav', 'Clarinet Flute Saxophone'],\n",
              " ['120c7292.wav', 'Cello Clarinet Flute'],\n",
              " ['1221a798.wav', 'Clarinet Flute Saxophone'],\n",
              " ['122abe8c.wav', 'Squeak Chime Shatter'],\n",
              " ['122f1508.wav', 'Clarinet Gong Flute'],\n",
              " ['12394644.wav', 'Shatter Hi-hat Tearing'],\n",
              " ['123986b6.wav', 'Double_bass Gong Acoustic_guitar'],\n",
              " ['1242ac46.wav', 'Clarinet Flute Saxophone'],\n",
              " ['1248a779.wav', 'Bass_drum Snare_drum Microwave_oven'],\n",
              " ['1248f9e2.wav', 'Double_bass Cello Electric_piano'],\n",
              " ['12508a7b.wav', 'Fireworks Squeak Trumpet'],\n",
              " ['12584f90.wav', 'Cello Clarinet Acoustic_guitar'],\n",
              " ['125c89cb.wav', 'Hi-hat Snare_drum Shatter'],\n",
              " ['125dccd9.wav', 'Bark Computer_keyboard Squeak'],\n",
              " ['12679aee.wav', 'Violin_or_fiddle Flute Harmonica'],\n",
              " ['126a48d2.wav', 'Trumpet Harmonica Hi-hat'],\n",
              " ['1271e7aa.wav', 'Acoustic_guitar Cello Clarinet'],\n",
              " ['12770ffc.wav', 'Squeak Laughter Computer_keyboard'],\n",
              " ['12798b6a.wav', 'Bass_drum Electric_piano Cowbell'],\n",
              " ['127a43ec.wav', 'Clarinet Flute Gong'],\n",
              " ['127d3803.wav', 'Violin_or_fiddle Flute Saxophone'],\n",
              " ['12a0327a.wav', 'Clarinet Gong Trumpet'],\n",
              " ['12a83756.wav', 'Fart Burping_or_eructation Cough'],\n",
              " ['12ac9a66.wav', 'Double_bass Bass_drum Writing'],\n",
              " ['12adec75.wav', 'Keys_jangling Tearing Writing'],\n",
              " ['12ae3ff9.wav', 'Bass_drum Snare_drum Knock'],\n",
              " ['12bb4b63.wav', 'Saxophone Flute Clarinet'],\n",
              " ['12bf9735.wav', 'Clarinet Oboe Flute'],\n",
              " ['12bfa703.wav', 'Electric_piano Knock Glockenspiel'],\n",
              " ['12c73c11.wav', 'Hi-hat Snare_drum Finger_snapping'],\n",
              " ['12d71e7f.wav', 'Tearing Bass_drum Snare_drum'],\n",
              " ['12d94273.wav', 'Double_bass Acoustic_guitar Gong'],\n",
              " ['12e91a56.wav', 'Bass_drum Knock Fireworks'],\n",
              " ['12ed3971.wav', 'Trumpet Harmonica Saxophone'],\n",
              " ['12edfe79.wav', 'Trumpet Saxophone Telephone'],\n",
              " ['12f5ec05.wav', 'Flute Clarinet Violin_or_fiddle'],\n",
              " ['12f71a9d.wav', 'Trumpet Saxophone Violin_or_fiddle'],\n",
              " ['12f9efda.wav', 'Bass_drum Saxophone Gunshot_or_gunfire'],\n",
              " ['12fb2e35.wav', 'Squeak Laughter Bark'],\n",
              " ['130112d1.wav', 'Hi-hat Shatter Trumpet'],\n",
              " ['1302eade.wav', 'Bass_drum Knock Bark'],\n",
              " ['130988c6.wav', 'Acoustic_guitar Microwave_oven Cello'],\n",
              " ['13184046.wav', 'Flute Violin_or_fiddle Saxophone'],\n",
              " ['13331371.wav', 'Cello Double_bass Gong'],\n",
              " ['13354f83.wav', 'Gong Violin_or_fiddle Telephone'],\n",
              " ['133599c8.wav', 'Finger_snapping Cowbell Hi-hat'],\n",
              " ['13371a0b.wav', 'Trumpet Clarinet Saxophone'],\n",
              " ['133a1dac.wav', 'Shatter Tearing Squeak'],\n",
              " ['13489639.wav', 'Oboe Gong Acoustic_guitar'],\n",
              " ['138bb73e.wav', 'Flute Saxophone Clarinet'],\n",
              " ['1391b6b2.wav', 'Bark Drawer_open_or_close Fireworks'],\n",
              " ['13979584.wav', 'Bass_drum Snare_drum Gunshot_or_gunfire'],\n",
              " ['139ab603.wav', 'Harmonica Hi-hat Violin_or_fiddle'],\n",
              " ['139aebb0.wav', 'Saxophone Violin_or_fiddle Trumpet'],\n",
              " ['13a6fa65.wav', 'Drawer_open_or_close Fart Burping_or_eructation'],\n",
              " ['13a9b494.wav', 'Cello Double_bass Clarinet'],\n",
              " ['13b9e681.wav', 'Hi-hat Snare_drum Shatter'],\n",
              " ['13bd9ca7.wav', 'Fart Computer_keyboard Squeak'],\n",
              " ['13c4e7ef.wav', 'Cough Laughter Burping_or_eructation'],\n",
              " ['13c6f3c2.wav', 'Bass_drum Double_bass Snare_drum'],\n",
              " ['13cc0201.wav', 'Clarinet Flute Saxophone'],\n",
              " ['13d4af26.wav', 'Gong Acoustic_guitar Trumpet'],\n",
              " ['13d5aec7.wav', 'Burping_or_eructation Acoustic_guitar Gong'],\n",
              " ['13d6fb26.wav', 'Bass_drum Knock Double_bass'],\n",
              " ['13e1e624.wav', 'Acoustic_guitar Fart Burping_or_eructation'],\n",
              " ['13e2b96a.wav', 'Trumpet Saxophone Oboe'],\n",
              " ['13e4f495.wav', 'Clarinet Cello Flute'],\n",
              " ['13ee85d2.wav', 'Finger_snapping Knock Shatter'],\n",
              " ['13f663b3.wav', 'Trumpet Hi-hat Saxophone'],\n",
              " ['14031155.wav', 'Squeak Bark Laughter'],\n",
              " ['14041984.wav', 'Trumpet Knock Fart'],\n",
              " ['140d79b0.wav', 'Clarinet Gong Trumpet'],\n",
              " ['14182f8e.wav', 'Hi-hat Shatter Snare_drum'],\n",
              " ['141a7b5d.wav', 'Acoustic_guitar Gong Electric_piano'],\n",
              " ['141d4ba2.wav', 'Clarinet Flute Saxophone'],\n",
              " ['142258b7.wav', 'Flute Saxophone Clarinet'],\n",
              " ['1437b371.wav', 'Oboe Gong Trumpet'],\n",
              " ['143feb4e.wav', 'Hi-hat Snare_drum Finger_snapping'],\n",
              " ['144157e4.wav', 'Oboe Laughter Squeak'],\n",
              " ['14448a8a.wav', 'Acoustic_guitar Cowbell Gong'],\n",
              " ['1457e269.wav', 'Clarinet Trumpet Saxophone'],\n",
              " ['1460cf8c.wav', 'Violin_or_fiddle Cello Squeak'],\n",
              " ['1467ad73.wav', 'Cello Double_bass Acoustic_guitar'],\n",
              " ['1472c52c.wav', 'Bark Gong Squeak'],\n",
              " ['147b4b92.wav', 'Trumpet Saxophone Hi-hat'],\n",
              " ['14825a40.wav', 'Glockenspiel Shatter Finger_snapping'],\n",
              " ['14973511.wav', 'Clarinet Flute Saxophone'],\n",
              " ['14a35fad.wav', 'Fart Squeak Laughter'],\n",
              " ['14a40516.wav', 'Saxophone Violin_or_fiddle Trumpet'],\n",
              " ['14acb290.wav', 'Bass_drum Snare_drum Gunshot_or_gunfire'],\n",
              " ['14acdf0f.wav', 'Fireworks Shatter Squeak'],\n",
              " ['14b028c5.wav', 'Trumpet Saxophone Flute'],\n",
              " ['14ba2025.wav', 'Clarinet Flute Violin_or_fiddle'],\n",
              " ['14bb9803.wav', 'Electric_piano Gong Acoustic_guitar'],\n",
              " ['14bbc9cf.wav', 'Acoustic_guitar Electric_piano Flute'],\n",
              " ['14bd9082.wav', 'Cello Double_bass Acoustic_guitar'],\n",
              " ['14c45684.wav', 'Violin_or_fiddle Acoustic_guitar Cowbell'],\n",
              " ['14c6a761.wav', 'Bass_drum Knock Double_bass'],\n",
              " ['14c71e9e.wav', 'Acoustic_guitar Gong Electric_piano'],\n",
              " ['14cd4f75.wav', 'Flute Clarinet Violin_or_fiddle'],\n",
              " ['14d6a6a0.wav', 'Snare_drum Bass_drum Shatter'],\n",
              " ['14dcf709.wav', 'Violin_or_fiddle Cello Saxophone'],\n",
              " ['14e7e9ac.wav', 'Bass_drum Tearing Writing'],\n",
              " ['14f70585.wav', 'Saxophone Flute Clarinet'],\n",
              " ['14f708da.wav', 'Writing Scissors Fart'],\n",
              " ['1502179d.wav', 'Cello Violin_or_fiddle Acoustic_guitar'],\n",
              " ['150429d6.wav', 'Clarinet Saxophone Flute'],\n",
              " ['150e1dd2.wav', 'Clarinet Cello Saxophone'],\n",
              " ['151254c2.wav', 'Clarinet Gong Flute'],\n",
              " ['15125f5f.wav', 'Bass_drum Snare_drum Cowbell'],\n",
              " ['15139a13.wav', 'Clarinet Cello Saxophone'],\n",
              " ['1515bb19.wav', 'Violin_or_fiddle Flute Acoustic_guitar'],\n",
              " ['15184f5f.wav', 'Clarinet Gong Cello'],\n",
              " ['15190a5f.wav', 'Acoustic_guitar Electric_piano Double_bass'],\n",
              " ['1519b35f.wav', 'Hi-hat Shatter Finger_snapping'],\n",
              " ['15295b70.wav', 'Clarinet Flute Saxophone'],\n",
              " ['152f3667.wav', 'Bass_drum Snare_drum Gunshot_or_gunfire'],\n",
              " ['15345e4a.wav', 'Oboe Flute Saxophone'],\n",
              " ['15389a70.wav', 'Clarinet Acoustic_guitar Cello'],\n",
              " ['153a0440.wav', 'Cello Double_bass Acoustic_guitar'],\n",
              " ['153f814a.wav', 'Knock Trumpet Gunshot_or_gunfire'],\n",
              " ['1545d3db.wav', 'Writing Tearing Drawer_open_or_close'],\n",
              " ['15603fd9.wav', 'Cello Violin_or_fiddle Acoustic_guitar'],\n",
              " ['15719ed6.wav', 'Clarinet Flute Violin_or_fiddle'],\n",
              " ['15750f4b.wav', 'Flute Harmonica Hi-hat'],\n",
              " ['158607fd.wav', 'Fart Cough Drawer_open_or_close'],\n",
              " ['15860b48.wav', 'Clarinet Flute Saxophone'],\n",
              " ['158a30ac.wav', 'Gong Acoustic_guitar Cello'],\n",
              " ['158bd28f.wav', 'Bass_drum Knock Double_bass'],\n",
              " ['159e8bfb.wav', 'Hi-hat Shatter Snare_drum'],\n",
              " ['15af3daf.wav', 'Tearing Writing Scissors'],\n",
              " ['15ba6e85.wav', 'Hi-hat Snare_drum Finger_snapping'],\n",
              " ['15bc9bf6.wav', 'Bass_drum Knock Snare_drum'],\n",
              " ['15bfb7ad.wav', 'Snare_drum Finger_snapping Hi-hat'],\n",
              " ['15ce5db3.wav', 'Snare_drum Bass_drum Electric_piano'],\n",
              " ['15d87509.wav', 'Clarinet Flute Saxophone'],\n",
              " ['15df8abd.wav', 'Saxophone Flute Violin_or_fiddle'],\n",
              " ['15f246da.wav', 'Bass_drum Electric_piano Double_bass'],\n",
              " ['15f4101c.wav', 'Acoustic_guitar Cello Electric_piano'],\n",
              " ['15f5c90b.wav', 'Laughter Harmonica Cough'],\n",
              " ['15f6fc67.wav', 'Snare_drum Knock Fireworks'],\n",
              " ['160853bc.wav', 'Cough Laughter Burping_or_eructation'],\n",
              " ['160f466f.wav', 'Trumpet Saxophone Oboe'],\n",
              " ['1615df90.wav', 'Finger_snapping Hi-hat Tambourine'],\n",
              " ['161d4ab4.wav', 'Bass_drum Knock Snare_drum'],\n",
              " ['162e8246.wav', 'Flute Saxophone Oboe'],\n",
              " ['16345547.wav', 'Gong Laughter Squeak'],\n",
              " ['16348aa9.wav', 'Acoustic_guitar Squeak Cough'],\n",
              " ['163b9ad7.wav', 'Violin_or_fiddle Gong Cowbell'],\n",
              " ['16431ede.wav', 'Bass_drum Knock Snare_drum'],\n",
              " ['164b4c89.wav', 'Hi-hat Harmonica Trumpet'],\n",
              " ['164f3510.wav', 'Cello Clarinet Gong'],\n",
              " ['165bc5ea.wav', 'Hi-hat Tambourine Shatter'],\n",
              " ['16612ee5.wav', 'Cello Gong Acoustic_guitar'],\n",
              " ['166649ff.wav', 'Hi-hat Trumpet Applause'],\n",
              " ['166699d1.wav', 'Trumpet Finger_snapping Knock'],\n",
              " ['167438db.wav', 'Applause Laughter Fart'],\n",
              " ['1674eaff.wav', 'Cello Double_bass Gong'],\n",
              " ['16750658.wav', 'Glockenspiel Shatter Writing'],\n",
              " ['167d07c1.wav', 'Snare_drum Hi-hat Finger_snapping'],\n",
              " ['168dde05.wav', 'Acoustic_guitar Clarinet Gong'],\n",
              " ['169187fd.wav', 'Keys_jangling Tearing Writing'],\n",
              " ['1692752a.wav', 'Acoustic_guitar Trumpet Electric_piano'],\n",
              " ['16991fc7.wav', 'Trumpet Harmonica Hi-hat'],\n",
              " ['1699bae8.wav', 'Bass_drum Snare_drum Hi-hat'],\n",
              " ['16a2e687.wav', 'Squeak Microwave_oven Laughter'],\n",
              " ['16aaa6b7.wav', 'Chime Keys_jangling Tambourine'],\n",
              " ['16bd65e1.wav', 'Bass_drum Knock Gunshot_or_gunfire'],\n",
              " ['16bd8f47.wav', 'Trumpet Saxophone Electric_piano'],\n",
              " ['16c01f9b.wav', 'Clarinet Cello Saxophone'],\n",
              " ['16c8058b.wav', 'Gunshot_or_gunfire Fart Snare_drum'],\n",
              " ['16cda087.wav', 'Cello Clarinet Acoustic_guitar'],\n",
              " ['16cf8831.wav', 'Fireworks Gong Cello'],\n",
              " ['16d0c74a.wav', 'Violin_or_fiddle Clarinet Flute'],\n",
              " ['16d4034a.wav', 'Hi-hat Finger_snapping Trumpet'],\n",
              " ['16e89d43.wav', 'Hi-hat Shatter Snare_drum'],\n",
              " ['16ec0be8.wav', 'Violin_or_fiddle Flute Harmonica'],\n",
              " ['16f71d9e.wav', 'Hi-hat Shatter Snare_drum'],\n",
              " ['170e0bb1.wav', 'Acoustic_guitar Double_bass Cello'],\n",
              " ['170ee500.wav', 'Bass_drum Snare_drum Knock'],\n",
              " ['170f53d8.wav', 'Computer_keyboard Chime Squeak'],\n",
              " ['17153cf6.wav', 'Fart Snare_drum Tearing'],\n",
              " ['171d5e5d.wav', 'Drawer_open_or_close Fart Squeak'],\n",
              " ['1723feb0.wav', 'Bass_drum Gunshot_or_gunfire Shatter'],\n",
              " ['17312128.wav', 'Bass_drum Snare_drum Knock'],\n",
              " ['17356873.wav', 'Cello Double_bass Acoustic_guitar'],\n",
              " ['173e49ef.wav', 'Violin_or_fiddle Flute Laughter'],\n",
              " ['173ea625.wav', 'Fireworks Trumpet Applause'],\n",
              " ['17455a79.wav', 'Bass_drum Knock Double_bass'],\n",
              " ['17490d6b.wav', 'Bass_drum Snare_drum Gunshot_or_gunfire'],\n",
              " ['174b0363.wav', 'Clarinet Flute Saxophone'],\n",
              " ['17511eae.wav', 'Trumpet Saxophone Electric_piano'],\n",
              " ['1760e135.wav', 'Acoustic_guitar Electric_piano Knock'],\n",
              " ['17617f21.wav', 'Acoustic_guitar Electric_piano Gong'],\n",
              " ['17674111.wav', 'Writing Computer_keyboard Squeak'],\n",
              " ['176e2113.wav', 'Cello Double_bass Saxophone'],\n",
              " ['1771861b.wav', 'Bass_drum Snare_drum Gunshot_or_gunfire'],\n",
              " ['17744d78.wav', 'Squeak Laughter Cough'],\n",
              " ['1779afe8.wav', 'Electric_piano Acoustic_guitar Gong'],\n",
              " ['177ce933.wav', 'Violin_or_fiddle Squeak Saxophone'],\n",
              " ['177f344a.wav', 'Squeak Shatter Writing'],\n",
              " ['1781c115.wav', 'Laughter Bark Cough'],\n",
              " ['1788e6f6.wav', 'Tearing Writing Fart'],\n",
              " ['17955a9f.wav', 'Bass_drum Fart Knock'],\n",
              " ['1796f9cb.wav', 'Clarinet Flute Saxophone'],\n",
              " ['17985dae.wav', 'Bass_drum Double_bass Knock'],\n",
              " ['17a4e6f1.wav', 'Glockenspiel Gong Electric_piano'],\n",
              " ['17a5de4f.wav', 'Trumpet Saxophone Clarinet'],\n",
              " ['17a87178.wav', 'Clarinet Flute Saxophone'],\n",
              " ['17ad9090.wav', 'Flute Saxophone Clarinet'],\n",
              " ['17b474ef.wav', 'Cello Clarinet Double_bass'],\n",
              " ['17b61ce8.wav', 'Bass_drum Snare_drum Double_bass'],\n",
              " ['17c07953.wav', 'Acoustic_guitar Electric_piano Gong'],\n",
              " ['17c3c741.wav', 'Shatter Chime Squeak'],\n",
              " ['17c6a405.wav', 'Applause Fireworks Squeak'],\n",
              " ['17cb084e.wav', 'Violin_or_fiddle Burping_or_eructation Squeak'],\n",
              " ['17cf92a5.wav', 'Snare_drum Hi-hat Gunshot_or_gunfire'],\n",
              " ['17cfddcf.wav', 'Violin_or_fiddle Bass_drum Fireworks'],\n",
              " ['17d75970.wav', 'Trumpet Saxophone Clarinet'],\n",
              " ['17dba240.wav', 'Bass_drum Snare_drum Drawer_open_or_close'],\n",
              " ['17e3144e.wav', 'Clarinet Oboe Flute'],\n",
              " ['17e829a7.wav', 'Tearing Shatter Writing'],\n",
              " ['17edf1e0.wav', 'Fart Writing Tearing'],\n",
              " ['17ee3009.wav', 'Trumpet Saxophone Clarinet'],\n",
              " ['17fc511c.wav', 'Burping_or_eructation Squeak Violin_or_fiddle'],\n",
              " ['18063bf0.wav', 'Bass_drum Knock Gunshot_or_gunfire'],\n",
              " ['1806ff82.wav', 'Bass_drum Knock Snare_drum'],\n",
              " ['180d82cc.wav', 'Fart Tearing Shatter'],\n",
              " ['1810cd33.wav', 'Harmonica Flute Squeak'],\n",
              " ['181505d1.wav', 'Clarinet Gong Cello'],\n",
              " ['1819a7b7.wav', 'Harmonica Hi-hat Acoustic_guitar'],\n",
              " ['18210526.wav', 'Bass_drum Snare_drum Knock'],\n",
              " ['18229e72.wav', 'Hi-hat Tambourine Shatter'],\n",
              " ['18253631.wav', 'Bass_drum Snare_drum Knock'],\n",
              " ['1837f058.wav', 'Squeak Writing Chime'],\n",
              " ['18452dbe.wav', 'Fart Burping_or_eructation Cough'],\n",
              " ['184c3a72.wav', 'Glockenspiel Writing Squeak'],\n",
              " ['1850e006.wav', 'Writing Computer_keyboard Tearing'],\n",
              " ['1858f370.wav', 'Finger_snapping Shatter Cowbell'],\n",
              " ['1874843c.wav', 'Saxophone Oboe Trumpet'],\n",
              " ['187532f8.wav', 'Saxophone Flute Laughter'],\n",
              " ['187d9e6e.wav', 'Writing Fart Snare_drum'],\n",
              " ['187e3878.wav', 'Bass_drum Knock Snare_drum'],\n",
              " ['18841b79.wav', 'Cello Saxophone Violin_or_fiddle'],\n",
              " ['18885439.wav', 'Gong Clarinet Glockenspiel'],\n",
              " ['189441e1.wav', 'Burping_or_eructation Squeak Bass_drum'],\n",
              " ['1898f7b6.wav', 'Tearing Hi-hat Shatter'],\n",
              " ['18a625d3.wav', 'Cough Burping_or_eructation Laughter'],\n",
              " ['18a6df57.wav', 'Flute Saxophone Clarinet'],\n",
              " ['18b27945.wav', 'Harmonica Violin_or_fiddle Saxophone'],\n",
              " ['18b390aa.wav', 'Clarinet Gong Cello'],\n",
              " ['18b60e7c.wav', 'Keys_jangling Tearing Writing'],\n",
              " ['18b6a781.wav', 'Clarinet Cello Acoustic_guitar'],\n",
              " ['18bc04e0.wav', 'Fart Burping_or_eructation Squeak'],\n",
              " ['18bc6c72.wav', 'Bus Fireworks Microwave_oven'],\n",
              " ['18c8750a.wav', 'Trumpet Saxophone Clarinet'],\n",
              " ['18d60f74.wav', 'Violin_or_fiddle Acoustic_guitar Cello'],\n",
              " ['18d8abc6.wav', 'Saxophone Violin_or_fiddle Cello'],\n",
              " ['18de723e.wav', 'Cello Double_bass Gong'],\n",
              " ['18e228c9.wav', 'Shatter Tearing Hi-hat'],\n",
              " ['18e2418d.wav', 'Saxophone Electric_piano Oboe'],\n",
              " ['18e3eb8c.wav', 'Acoustic_guitar Gong Cello'],\n",
              " ['18e8e2ac.wav', 'Saxophone Flute Clarinet'],\n",
              " ['18ea036e.wav', 'Cello Clarinet Saxophone'],\n",
              " ['18f3a477.wav', 'Fart Squeak Fireworks'],\n",
              " ['18f56a28.wav', 'Clarinet Flute Trumpet'],\n",
              " ['190cd2ef.wav', 'Gong Glockenspiel Electric_piano'],\n",
              " ['190f0ca0.wav', 'Clarinet Flute Meow'],\n",
              " ['191087dd.wav', 'Chime Hi-hat Harmonica'],\n",
              " ['19125f06.wav', 'Hi-hat Finger_snapping Tambourine'],\n",
              " ['1919c4b7.wav', 'Violin_or_fiddle Acoustic_guitar Gong'],\n",
              " ['19202922.wav', 'Gong Acoustic_guitar Electric_piano'],\n",
              " ['192b0f83.wav', 'Trumpet Saxophone Oboe'],\n",
              " ['192d38cf.wav', 'Violin_or_fiddle Flute Saxophone'],\n",
              " ['192ddfa1.wav', 'Keys_jangling Writing Tearing'],\n",
              " ['19390e56.wav', 'Tambourine Finger_snapping Hi-hat'],\n",
              " ['193d9d2a.wav', 'Applause Squeak Fireworks'],\n",
              " ['19416771.wav', 'Gong Fart Trumpet'],\n",
              " ['19488282.wav', 'Trumpet Oboe Saxophone'],\n",
              " ['194d4fda.wav', 'Fart Cough Burping_or_eructation'],\n",
              " ['19507c1a.wav', 'Bass_drum Knock Tearing'],\n",
              " ['19536d06.wav', 'Finger_snapping Tearing Drawer_open_or_close'],\n",
              " ['19544e43.wav', 'Violin_or_fiddle Acoustic_guitar Harmonica'],\n",
              " ['19570da6.wav', 'Shatter Scissors Writing'],\n",
              " ['195b0c65.wav', 'Bass_drum Snare_drum Trumpet'],\n",
              " ['197366a1.wav', 'Bass_drum Snare_drum Tearing'],\n",
              " ['198e4540.wav', 'Clarinet Gong Flute'],\n",
              " ['19a120d3.wav', 'Shatter Bass_drum Snare_drum'],\n",
              " ['19a2a5c8.wav', 'Burping_or_eructation Fart Gong'],\n",
              " ['19a316cc.wav', 'Bass_drum Snare_drum Gunshot_or_gunfire'],\n",
              " ['19a33fef.wav', 'Cello Violin_or_fiddle Acoustic_guitar'],\n",
              " ['19a37eff.wav', 'Violin_or_fiddle Cello Flute'],\n",
              " ['19a686e2.wav', 'Cello Acoustic_guitar Violin_or_fiddle'],\n",
              " ['19afe1a7.wav', 'Acoustic_guitar Laughter Cough'],\n",
              " ['19b5d0da.wav', 'Fart Snare_drum Acoustic_guitar'],\n",
              " ['19b7eea0.wav', 'Tearing Shatter Knock'],\n",
              " ['19bb6cb7.wav', 'Acoustic_guitar Meow Cough'],\n",
              " ['19bf2ce6.wav', 'Bass_drum Snare_drum Gunshot_or_gunfire'],\n",
              " ['19c7d5e3.wav', 'Clarinet Flute Saxophone'],\n",
              " ['19c987c6.wav', 'Hi-hat Snare_drum Shatter'],\n",
              " ['19d11a47.wav', 'Flute Saxophone Trumpet'],\n",
              " ['19d3f305.wav', 'Gong Acoustic_guitar Squeak'],\n",
              " ['19d4d324.wav', 'Bass_drum Gunshot_or_gunfire Tearing'],\n",
              " ['19d99b8e.wav', 'Clarinet Saxophone Flute'],\n",
              " ['19dd0adf.wav', 'Hi-hat Snare_drum Harmonica'],\n",
              " ['19de8357.wav', 'Acoustic_guitar Burping_or_eructation Laughter'],\n",
              " ['19e18ee3.wav', 'Laughter Flute Bark'],\n",
              " ['19e6b24a.wav', 'Fireworks Cello Microwave_oven'],\n",
              " ['19e6ef89.wav', 'Fart Burping_or_eructation Cough'],\n",
              " ['19e9e878.wav', 'Fart Burping_or_eructation Cough'],\n",
              " ['1a01aa4d.wav', 'Flute Clarinet Saxophone'],\n",
              " ['1a1227e2.wav', 'Bass_drum Double_bass Knock'],\n",
              " ['1a14b601.wav', 'Flute Saxophone Bark'],\n",
              " ['1a1da2bf.wav', 'Trumpet Saxophone Flute'],\n",
              " ['1a21ea60.wav', 'Snare_drum Bass_drum Hi-hat'],\n",
              " ['1a281fda.wav', 'Clarinet Flute Saxophone'],\n",
              " ['1a29b341.wav', 'Writing Computer_keyboard Keys_jangling'],\n",
              " ['1a2f7f1a.wav', 'Laughter Cough Fart'],\n",
              " ['1a33953a.wav', 'Drawer_open_or_close Fart Trumpet'],\n",
              " ['1a35ff8a.wav', 'Shatter Chime Keys_jangling'],\n",
              " ['1a397af4.wav', 'Violin_or_fiddle Double_bass Gong'],\n",
              " ['1a3cf6de.wav', 'Cello Saxophone Clarinet'],\n",
              " ['1a4085ff.wav', 'Gong Squeak Trumpet'],\n",
              " ['1a46e9e3.wav', 'Bass_drum Knock Double_bass'],\n",
              " ['1a47fb84.wav', 'Trumpet Saxophone Violin_or_fiddle'],\n",
              " ['1a4cd763.wav', 'Gong Trumpet Cello'],\n",
              " ['1a52350b.wav', 'Clarinet Oboe Violin_or_fiddle'],\n",
              " ['1a74d00f.wav', 'Bass_drum Knock Cowbell'],\n",
              " ['1a7618a1.wav', 'Saxophone Violin_or_fiddle Flute'],\n",
              " ['1a836d36.wav', 'Double_bass Bass_drum Knock'],\n",
              " ['1a862948.wav', 'Gong Squeak Burping_or_eructation'],\n",
              " ['1a99c876.wav', 'Gong Trumpet Squeak'],\n",
              " ['1a9afa92.wav', 'Squeak Burping_or_eructation Writing'],\n",
              " ['1ab0c900.wav', 'Trumpet Saxophone Gong'],\n",
              " ['1ace26c4.wav', 'Applause Laughter Fireworks'],\n",
              " ['1ae0231e.wav', 'Bass_drum Snare_drum Flute'],\n",
              " ['1ae2b5fa.wav', 'Clarinet Flute Saxophone'],\n",
              " ['1ae9b98d.wav', 'Cello Acoustic_guitar Double_bass'],\n",
              " ['1af722d1.wav', 'Fart Burping_or_eructation Squeak'],\n",
              " ['1afb9f93.wav', 'Gong Squeak Chime'],\n",
              " ...]"
            ]
          },
          "metadata": {
            "tags": []
          },
          "execution_count": 358
        }
      ]
    },
    {
      "metadata": {
        "id": "MuhtEXUphS5n",
        "colab_type": "code",
        "colab": {
          "base_uri": "https://localhost:8080/",
          "height": 34
        },
        "outputId": "da2918b4-f925-4757-b2be-9cbc9a0b7cb4"
      },
      "cell_type": "code",
      "source": [
        "print(len(myData))\n",
        "import csv\n",
        "file = open('Tes.csv','w')\n",
        "with file:\n",
        "\twriter=csv.writer(file)\n",
        "\twriter.writerows(myData)"
      ],
      "execution_count": 359,
      "outputs": [
        {
          "output_type": "stream",
          "text": [
            "9401\n"
          ],
          "name": "stdout"
        }
      ]
    },
    {
      "metadata": {
        "id": "ZG7Pl9jgwmGc",
        "colab_type": "code",
        "colab": {
          "base_uri": "https://localhost:8080/",
          "height": 34
        },
        "outputId": "15001da5-ac5e-47ae-eafd-04ef33772ce9"
      },
      "cell_type": "code",
      "source": [
        "!kaggle competitions submit -c freesound-audio-tagging -f Tes.csv -m \"valid epochs\""
      ],
      "execution_count": 360,
      "outputs": [
        {
          "output_type": "stream",
          "text": [
            "Successfully submitted to Freesound General-Purpose Audio Tagging Challenge"
          ],
          "name": "stdout"
        }
      ]
    },
    {
      "metadata": {
        "id": "qjVDCDpHhBb3",
        "colab_type": "code",
        "colab": {}
      },
      "cell_type": "code",
      "source": [
        "from google.colab import files\n",
        "files.download('Tes.csv')"
      ],
      "execution_count": 0,
      "outputs": []
    },
    {
      "metadata": {
        "id": "3OZDjlOX1OX4",
        "colab_type": "text"
      },
      "cell_type": "markdown",
      "source": [
        "Following code is to upload csv files to google drive"
      ]
    },
    {
      "metadata": {
        "id": "h_d-4CAcUQ9g",
        "colab_type": "code",
        "colab": {}
      },
      "cell_type": "code",
      "source": [
        "!pip install -U -q PyDrive\n",
        "from pydrive.auth import GoogleAuth\n",
        "from pydrive.drive import GoogleDrive\n",
        "from google.colab import auth\n",
        "from oauth2client.client import GoogleCredentials"
      ],
      "execution_count": 0,
      "outputs": []
    },
    {
      "metadata": {
        "id": "zQgOsjUd-MQm",
        "colab_type": "code",
        "colab": {}
      },
      "cell_type": "code",
      "source": [
        "auth.authenticate_user()\n",
        "gauth = GoogleAuth()\n",
        "gauth.credentials = GoogleCredentials.get_application_default()\n",
        "drive = GoogleDrive(gauth)"
      ],
      "execution_count": 0,
      "outputs": []
    },
    {
      "metadata": {
        "id": "7enbZofJ-QPP",
        "colab_type": "code",
        "colab": {
          "base_uri": "https://localhost:8080/",
          "height": 34
        },
        "outputId": "4a20a5c5-9dd8-4a16-d825-4c99627f863a"
      },
      "cell_type": "code",
      "source": [
        "uploaded = drive.CreateFile({'title': 'Trainp.csv'})\n",
        "uploaded.SetContentFile('Trainp.csv')\n",
        "uploaded.Upload()\n",
        "print('Uploaded file with ID {}'.format(uploaded.get('id')))"
      ],
      "execution_count": 260,
      "outputs": [
        {
          "output_type": "stream",
          "text": [
            "Uploaded file with ID 1eJnImYoFMWkw7klAkIRsLBi7ti9s18QS\n"
          ],
          "name": "stdout"
        }
      ]
    },
    {
      "metadata": {
        "id": "aiSyaneD-bMs",
        "colab_type": "code",
        "colab": {}
      },
      "cell_type": "code",
      "source": [
        ""
      ],
      "execution_count": 0,
      "outputs": []
    }
  ]
}